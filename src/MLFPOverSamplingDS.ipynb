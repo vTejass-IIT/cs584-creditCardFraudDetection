{
 "cells": [
  {
   "cell_type": "code",
   "execution_count": 1,
   "metadata": {
    "executionInfo": {
     "elapsed": 109,
     "status": "ok",
     "timestamp": 1670007245549,
     "user": {
      "displayName": "Harsh Gordhan Dungrani",
      "userId": "06954894784251770833"
     },
     "user_tz": 360
    },
    "id": "N2qsj-Q163Aj"
   },
   "outputs": [],
   "source": [
    "# import libraries \n",
    "import pandas as pd\n",
    "import numpy as np\n",
    "import seaborn as sns\n",
    "import matplotlib.pyplot as plt\n",
    "import time\n",
    "from sklearn.ensemble import RandomForestClassifier\n",
    "from sklearn.linear_model import LogisticRegression\n",
    "from sklearn.discriminant_analysis import LinearDiscriminantAnalysis\n",
    "from sklearn.tree import DecisionTreeClassifier\n",
    "from sklearn.naive_bayes import GaussianNB\n",
    "from sklearn.ensemble import AdaBoostClassifier\n",
    "from sklearn.metrics import accuracy_score\n",
    "from sklearn.metrics import classification_report\n",
    "from sklearn.metrics import roc_auc_score"
   ]
  },
  {
   "cell_type": "code",
   "execution_count": 3,
   "metadata": {
    "executionInfo": {
     "elapsed": 1502,
     "status": "ok",
     "timestamp": 1670007247563,
     "user": {
      "displayName": "Harsh Gordhan Dungrani",
      "userId": "06954894784251770833"
     },
     "user_tz": 360
    },
    "id": "ysMhdkbhcD_G"
   },
   "outputs": [],
   "source": [
    "import zipfile\n",
    "with zipfile.ZipFile('../content/creditcard.csv.zip', 'r') as zip_ref:\n",
    "    zip_ref.extractall('../content/')"
   ]
  },
  {
   "cell_type": "code",
   "execution_count": 2,
   "metadata": {
    "executionInfo": {
     "elapsed": 4149,
     "status": "ok",
     "timestamp": 1670007251702,
     "user": {
      "displayName": "Harsh Gordhan Dungrani",
      "userId": "06954894784251770833"
     },
     "user_tz": 360
    },
    "id": "9im77cQgLi-F"
   },
   "outputs": [],
   "source": [
    "data=pd.read_csv('../content/creditcard.csv')"
   ]
  },
  {
   "cell_type": "code",
   "execution_count": 3,
   "metadata": {
    "colab": {
     "base_uri": "https://localhost:8080/"
    },
    "executionInfo": {
     "elapsed": 19,
     "status": "ok",
     "timestamp": 1670007251703,
     "user": {
      "displayName": "Harsh Gordhan Dungrani",
      "userId": "06954894784251770833"
     },
     "user_tz": 360
    },
    "id": "MC4-H6rgcGi1",
    "outputId": "c73774d8-6bd9-4b5c-ba90-d580ead7bc1a"
   },
   "outputs": [
    {
     "data": {
      "text/plain": [
       "(284807, 31)"
      ]
     },
     "execution_count": 3,
     "metadata": {},
     "output_type": "execute_result"
    }
   ],
   "source": [
    "data.shape"
   ]
  },
  {
   "cell_type": "code",
   "execution_count": 4,
   "metadata": {
    "executionInfo": {
     "elapsed": 155,
     "status": "ok",
     "timestamp": 1670007251849,
     "user": {
      "displayName": "Harsh Gordhan Dungrani",
      "userId": "06954894784251770833"
     },
     "user_tz": 360
    },
    "id": "SD_UOfGJcJAm"
   },
   "outputs": [],
   "source": [
    "X = data.loc[:, data.columns != 'Class']\n",
    "Y = data.Class"
   ]
  },
  {
   "cell_type": "code",
   "execution_count": 5,
   "metadata": {
    "executionInfo": {
     "elapsed": 774,
     "status": "ok",
     "timestamp": 1670007252620,
     "user": {
      "displayName": "Harsh Gordhan Dungrani",
      "userId": "06954894784251770833"
     },
     "user_tz": 360
    },
    "id": "c2WqPJiEcLKe"
   },
   "outputs": [],
   "source": [
    "#OvererSampling\n",
    "from imblearn.over_sampling import RandomOverSampler\n",
    "oversample = RandomOverSampler()\n",
    "X_OS, Y_OS = oversample.fit_resample(X, Y)"
   ]
  },
  {
   "cell_type": "code",
   "execution_count": 6,
   "metadata": {
    "colab": {
     "base_uri": "https://localhost:8080/"
    },
    "executionInfo": {
     "elapsed": 5,
     "status": "ok",
     "timestamp": 1670007252740,
     "user": {
      "displayName": "Harsh Gordhan Dungrani",
      "userId": "06954894784251770833"
     },
     "user_tz": 360
    },
    "id": "ug8vpl09cX-n",
    "outputId": "91a067bc-db1e-4271-8652-7e0f1af802a8"
   },
   "outputs": [
    {
     "name": "stdout",
     "output_type": "stream",
     "text": [
      "(568630, 30) (568630,)\n"
     ]
    }
   ],
   "source": [
    "print(X_OS.shape,Y_OS.shape)"
   ]
  },
  {
   "cell_type": "code",
   "execution_count": 7,
   "metadata": {
    "colab": {
     "base_uri": "https://localhost:8080/"
    },
    "executionInfo": {
     "elapsed": 119,
     "status": "ok",
     "timestamp": 1670007253713,
     "user": {
      "displayName": "Harsh Gordhan Dungrani",
      "userId": "06954894784251770833"
     },
     "user_tz": 360
    },
    "id": "1m_D-cyle8I8",
    "outputId": "c2751874-23ec-4122-a34f-15a9cf4ad478"
   },
   "outputs": [
    {
     "name": "stdout",
     "output_type": "stream",
     "text": [
      "(568630, 31)\n",
      "Class\n",
      "0    284315\n",
      "1    284315\n",
      "dtype: int64\n"
     ]
    }
   ],
   "source": [
    "data_OS = pd.concat([X_OS, Y_OS], axis=1)\n",
    "print(data_OS.shape)\n",
    "print(data_OS.groupby('Class').size())"
   ]
  },
  {
   "cell_type": "code",
   "execution_count": 8,
   "metadata": {
    "colab": {
     "base_uri": "https://localhost:8080/",
     "height": 386
    },
    "executionInfo": {
     "elapsed": 357,
     "status": "ok",
     "timestamp": 1668214588400,
     "user": {
      "displayName": "Harsh Gordhan Dungrani",
      "userId": "06954894784251770833"
     },
     "user_tz": 360
    },
    "id": "e9wUgZ_Yen0_",
    "outputId": "44e7a86a-f0a1-4cf8-8293-a90d73d9bf15"
   },
   "outputs": [
    {
     "name": "stdout",
     "output_type": "stream",
     "text": [
      "1    284315\n",
      "0    284315\n",
      "Name: Class, dtype: int64\n"
     ]
    },
    {
     "name": "stderr",
     "output_type": "stream",
     "text": [
      "C:\\Users\\Ashish\\anaconda3\\lib\\site-packages\\seaborn\\_decorators.py:36: FutureWarning: Pass the following variable as a keyword arg: x. From version 0.12, the only valid positional argument will be `data`, and passing other arguments without an explicit keyword will result in an error or misinterpretation.\n",
      "  warnings.warn(\n"
     ]
    },
    {
     "data": {
      "image/png": "[encoded data removed]",
      "text/plain": [
       "<Figure size 432x288 with 1 Axes>"
      ]
     },
     "metadata": {
      "needs_background": "light"
     },
     "output_type": "display_data"
    }
   ],
   "source": [
    "#Fradulent/ Non-Fradulent Samples Plot\n",
    "y = data_OS[\"Class\"]\n",
    "sns.countplot(y)\n",
    "target_temp = data_OS.Class.value_counts()\n",
    "print(target_temp)"
   ]
  },
  {
   "cell_type": "code",
   "execution_count": 9,
   "metadata": {
    "colab": {
     "base_uri": "https://localhost:8080/"
    },
    "executionInfo": {
     "elapsed": 136,
     "status": "ok",
     "timestamp": 1670007254579,
     "user": {
      "displayName": "Harsh Gordhan Dungrani",
      "userId": "06954894784251770833"
     },
     "user_tz": 360
    },
    "id": "bawXn5iwd4GP",
    "outputId": "087762ca-b510-4c44-e42d-e3a0a41864f6"
   },
   "outputs": [
    {
     "name": "stdout",
     "output_type": "stream",
     "text": [
      "<class 'pandas.core.frame.DataFrame'>\n",
      "RangeIndex: 568630 entries, 0 to 568629\n",
      "Data columns (total 31 columns):\n",
      " #   Column  Non-Null Count   Dtype  \n",
      "---  ------  --------------   -----  \n",
      " 0   Time    568630 non-null  float64\n",
      " 1   V1      568630 non-null  float64\n",
      " 2   V2      568630 non-null  float64\n",
      " 3   V3      568630 non-null  float64\n",
      " 4   V4      568630 non-null  float64\n",
      " 5   V5      568630 non-null  float64\n",
      " 6   V6      568630 non-null  float64\n",
      " 7   V7      568630 non-null  float64\n",
      " 8   V8      568630 non-null  float64\n",
      " 9   V9      568630 non-null  float64\n",
      " 10  V10     568630 non-null  float64\n",
      " 11  V11     568630 non-null  float64\n",
      " 12  V12     568630 non-null  float64\n",
      " 13  V13     568630 non-null  float64\n",
      " 14  V14     568630 non-null  float64\n",
      " 15  V15     568630 non-null  float64\n",
      " 16  V16     568630 non-null  float64\n",
      " 17  V17     568630 non-null  float64\n",
      " 18  V18     568630 non-null  float64\n",
      " 19  V19     568630 non-null  float64\n",
      " 20  V20     568630 non-null  float64\n",
      " 21  V21     568630 non-null  float64\n",
      " 22  V22     568630 non-null  float64\n",
      " 23  V23     568630 non-null  float64\n",
      " 24  V24     568630 non-null  float64\n",
      " 25  V25     568630 non-null  float64\n",
      " 26  V26     568630 non-null  float64\n",
      " 27  V27     568630 non-null  float64\n",
      " 28  V28     568630 non-null  float64\n",
      " 29  Amount  568630 non-null  float64\n",
      " 30  Class   568630 non-null  int64  \n",
      "dtypes: float64(30), int64(1)\n",
      "memory usage: 134.5 MB\n"
     ]
    }
   ],
   "source": [
    "data_OS.info()"
   ]
  },
  {
   "cell_type": "code",
   "execution_count": 10,
   "metadata": {
    "colab": {
     "base_uri": "https://localhost:8080/",
     "height": 896
    },
    "executionInfo": {
     "elapsed": 3168,
     "status": "ok",
     "timestamp": 1670007317711,
     "user": {
      "displayName": "Harsh Gordhan Dungrani",
      "userId": "06954894784251770833"
     },
     "user_tz": 360
    },
    "id": "6OdHzcBYMAZj",
    "outputId": "75c0c909-e32b-4b42-a82b-c84ff10abc75"
   },
   "outputs": [
    {
     "data": {
      "image/png": "[encoded data removed]",
      "text/plain": [
       "<Figure size 1080x1080 with 2 Axes>"
      ]
     },
     "metadata": {
      "needs_background": "light"
     },
     "output_type": "display_data"
    }
   ],
   "source": [
    "# Correlation map\n",
    "plt.figure(figsize=(15, 15))\n",
    "sns.heatmap(data.corr(), cmap = \"Blues\")\n",
    "plt.show()"
   ]
  },
  {
   "cell_type": "code",
   "execution_count": 11,
   "metadata": {
    "colab": {
     "base_uri": "https://localhost:8080/"
    },
    "executionInfo": {
     "elapsed": 2672,
     "status": "ok",
     "timestamp": 1670007799866,
     "user": {
      "displayName": "Harsh Gordhan Dungrani",
      "userId": "06954894784251770833"
     },
     "user_tz": 360
    },
    "id": "G32yF6IoemXR",
    "outputId": "e75c68bc-b698-4a2c-b7ce-b41a760db192"
   },
   "outputs": [
    {
     "name": "stdout",
     "output_type": "stream",
     "text": [
      "Class     1.000000\n",
      "V4        0.710547\n",
      "V11       0.686368\n",
      "V2        0.490220\n",
      "V19       0.267231\n",
      "V20       0.168026\n",
      "V21       0.126240\n",
      "V28       0.083384\n",
      "V27       0.082991\n",
      "Amount    0.066300\n",
      "V8        0.057623\n",
      "V26       0.054686\n",
      "V25       0.030286\n",
      "V22       0.007160\n",
      "V23      -0.016841\n",
      "V15      -0.047806\n",
      "V13      -0.050650\n",
      "V24      -0.093298\n",
      "Time     -0.146509\n",
      "V5       -0.375362\n",
      "V6       -0.397173\n",
      "V1       -0.432982\n",
      "V18      -0.468317\n",
      "V7       -0.476246\n",
      "V9       -0.558355\n",
      "V17      -0.560133\n",
      "V3       -0.566934\n",
      "V16      -0.596836\n",
      "V10      -0.627145\n",
      "V12      -0.683630\n",
      "V14      -0.749941\n",
      "Name: Class, dtype: float64\n"
     ]
    }
   ],
   "source": [
    "print(data_OS.corr()[\"Class\"].sort_values(ascending=False))"
   ]
  },
  {
   "cell_type": "code",
   "execution_count": 12,
   "metadata": {
    "executionInfo": {
     "elapsed": 766,
     "status": "ok",
     "timestamp": 1670007804005,
     "user": {
      "displayName": "Harsh Gordhan Dungrani",
      "userId": "06954894784251770833"
     },
     "user_tz": 360
    },
    "id": "criRXqyBcfmT"
   },
   "outputs": [],
   "source": [
    "#Split the dataset into train and test set\n",
    "from sklearn.model_selection import train_test_split\n",
    "\n",
    "predictors = data.drop(\"Class\",axis=1)\n",
    "target = data[\"Class\"]\n",
    "\n",
    "X_train,X_test,Y_train,Y_test = train_test_split(X_OS,Y_OS,test_size=0.20,random_state=0)"
   ]
  },
  {
   "cell_type": "code",
   "execution_count": 13,
   "metadata": {
    "colab": {
     "base_uri": "https://localhost:8080/"
    },
    "executionInfo": {
     "elapsed": 138,
     "status": "ok",
     "timestamp": 1670007805529,
     "user": {
      "displayName": "Harsh Gordhan Dungrani",
      "userId": "06954894784251770833"
     },
     "user_tz": 360
    },
    "id": "wmAV9wyjcjKw",
    "outputId": "b0e4d8fc-efbd-4a13-ed3b-3c8fdb126d09"
   },
   "outputs": [
    {
     "name": "stdout",
     "output_type": "stream",
     "text": [
      "(454904, 30) (454904,) (113726, 30) (113726,)\n"
     ]
    }
   ],
   "source": [
    "print(X_train.shape,Y_train.shape,X_test.shape,Y_test.shape)"
   ]
  },
  {
   "cell_type": "code",
   "execution_count": 14,
   "metadata": {
    "colab": {
     "base_uri": "https://localhost:8080/"
    },
    "executionInfo": {
     "elapsed": 245769,
     "status": "ok",
     "timestamp": 1668214585979,
     "user": {
      "displayName": "Harsh Gordhan Dungrani",
      "userId": "06954894784251770833"
     },
     "user_tz": 360
    },
    "id": "Eggyo6SnPJS9",
    "outputId": "f369a50f-aedd-45bf-be49-480aa7ac87b1"
   },
   "outputs": [
    {
     "name": "stdout",
     "output_type": "stream",
     "text": [
      "Training Time: 229.0948507785797\n",
      "Training Accuracy Score: 1.0\n",
      "Pred Time: 1.3593857288360596\n",
      "Testing Accuracy Score: 0.9999648277438756\n",
      "AUC Score: 0.9999647415556026\n",
      "              precision    recall  f1-score   support\n",
      "\n",
      "           0       1.00      1.00      1.00     56724\n",
      "           1       1.00      1.00      1.00     57002\n",
      "\n",
      "    accuracy                           1.00    113726\n",
      "   macro avg       1.00      1.00      1.00    113726\n",
      "weighted avg       1.00      1.00      1.00    113726\n",
      "\n"
     ]
    }
   ],
   "source": [
    "#Random Forest\n",
    "rf = RandomForestClassifier()\n",
    "st=time.time()\n",
    "rf.fit(X_train,Y_train)\n",
    "et=time.time()\n",
    "print(\"Training Time:\",et-st)\n",
    "Y_trainpred_rf=rf.predict(X_train)\n",
    "print(\"Training Accuracy Score: {}\".format(accuracy_score(Y_train,Y_trainpred_rf)))\n",
    "st=time.time()\n",
    "Y_pred_rf = rf.predict(X_test)\n",
    "et=time.time()\n",
    "print(\"Pred Time:\",et-st)\n",
    "print(\"Testing Accuracy Score: {}\".format(accuracy_score(Y_test,Y_pred_rf)))\n",
    "print('AUC Score: {}'.format(roc_auc_score(Y_test,Y_pred_rf,average='weighted')))\n",
    "print(classification_report(Y_test,Y_pred_rf))"
   ]
  },
  {
   "cell_type": "code",
   "execution_count": 15,
   "metadata": {
    "colab": {
     "base_uri": "https://localhost:8080/"
    },
    "executionInfo": {
     "elapsed": 19982,
     "status": "ok",
     "timestamp": 1668212485252,
     "user": {
      "displayName": "Harsh Gordhan Dungrani",
      "userId": "06954894784251770833"
     },
     "user_tz": 360
    },
    "id": "tHvSWftEPM5P",
    "outputId": "76aafa47-b7d5-4740-b25b-bba6b730463a"
   },
   "outputs": [
    {
     "name": "stdout",
     "output_type": "stream",
     "text": [
      "Training Time: 14.10249376296997\n",
      "Training Accuracy Score: 1.0\n",
      "Pred Time: 0.022698163986206055\n",
      "Testing Accuracy Score: 0.9997801733992226\n",
      "AUC Score: 0.999779634722516\n",
      "              precision    recall  f1-score   support\n",
      "\n",
      "           0       1.00      1.00      1.00     56724\n",
      "           1       1.00      1.00      1.00     57002\n",
      "\n",
      "    accuracy                           1.00    113726\n",
      "   macro avg       1.00      1.00      1.00    113726\n",
      "weighted avg       1.00      1.00      1.00    113726\n",
      "\n"
     ]
    }
   ],
   "source": [
    "#Decision Tree\n",
    "dt = DecisionTreeClassifier()\n",
    "st=time.time()\n",
    "dt.fit(X_train,Y_train)\n",
    "et=time.time()\n",
    "print(\"Training Time:\",et-st)\n",
    "Y_trainpred_dt=dt.predict(X_train)\n",
    "print(\"Training Accuracy Score: {}\".format(accuracy_score(Y_train,Y_trainpred_dt)))\n",
    "st=time.time()\n",
    "Y_pred_dt = dt.predict(X_test)\n",
    "et=time.time()\n",
    "print(\"Pred Time:\",et-st)\n",
    "print(\"Testing Accuracy Score: {}\".format(accuracy_score(Y_test,Y_pred_dt)))\n",
    "print('AUC Score: {}'.format(roc_auc_score(Y_test,Y_pred_dt,average='weighted')))\n",
    "print(classification_report(Y_test,Y_pred_dt))"
   ]
  },
  {
   "cell_type": "code",
   "execution_count": 16,
   "metadata": {
    "colab": {
     "base_uri": "https://localhost:8080/"
    },
    "executionInfo": {
     "elapsed": 2887,
     "status": "ok",
     "timestamp": 1668212488116,
     "user": {
      "displayName": "Harsh Gordhan Dungrani",
      "userId": "06954894784251770833"
     },
     "user_tz": 360
    },
    "id": "yp-R8AoMPQba",
    "outputId": "a52a0062-9ef9-4891-8919-7430300f672d"
   },
   "outputs": [
    {
     "name": "stdout",
     "output_type": "stream",
     "text": [
      "Training Time: 2.5410218238830566\n",
      "Training Accuracy Score: 0.9207810878778819\n",
      "Pred Time: 0.015617132186889648\n",
      "Testing Accuracy Score: 0.9208536306561385\n",
      "AUC Score: 0.9210142591873992\n",
      "              precision    recall  f1-score   support\n",
      "\n",
      "           0       0.87      0.99      0.93     56724\n",
      "           1       0.98      0.86      0.92     57002\n",
      "\n",
      "    accuracy                           0.92    113726\n",
      "   macro avg       0.93      0.92      0.92    113726\n",
      "weighted avg       0.93      0.92      0.92    113726\n",
      "\n"
     ]
    }
   ],
   "source": [
    "#LDA\n",
    "lda = LinearDiscriminantAnalysis()\n",
    "st=time.time()\n",
    "lda.fit(X_train,Y_train)\n",
    "et=time.time()\n",
    "print(\"Training Time:\",et-st)\n",
    "Y_trainpred_lda=lda.predict(X_train)\n",
    "print(\"Training Accuracy Score: {}\".format(accuracy_score(Y_train,Y_trainpred_lda)))\n",
    "st=time.time()\n",
    "Y_pred_lda = lda.predict(X_test)\n",
    "et=time.time()\n",
    "print(\"Pred Time:\",et-st)\n",
    "print(\"Testing Accuracy Score: {}\".format(accuracy_score(Y_test,Y_pred_lda)))\n",
    "print('AUC Score: {}'.format(roc_auc_score(Y_test,Y_pred_lda,average='weighted')))\n",
    "print(classification_report(Y_test,Y_pred_lda))"
   ]
  },
  {
   "cell_type": "code",
   "execution_count": 17,
   "metadata": {
    "colab": {
     "base_uri": "https://localhost:8080/"
    },
    "executionInfo": {
     "elapsed": 9214,
     "status": "ok",
     "timestamp": 1668212497325,
     "user": {
      "displayName": "Harsh Gordhan Dungrani",
      "userId": "06954894784251770833"
     },
     "user_tz": 360
    },
    "id": "fXXXAnNkPS4f",
    "outputId": "91459367-4eb3-4b96-cd62-c10f979ada46"
   },
   "outputs": [
    {
     "name": "stdout",
     "output_type": "stream",
     "text": [
      "Training Time: 2.9936044216156006\n",
      "Training Accuracy Score: 0.9377626927879289\n",
      "Pred Time: 0.015619993209838867\n",
      "Testing Accuracy Score: 0.9374637286108718\n",
      "AUC Score: 0.9375274945908579\n",
      "              precision    recall  f1-score   support\n",
      "\n",
      "           0       0.92      0.96      0.94     56724\n",
      "           1       0.96      0.91      0.94     57002\n",
      "\n",
      "    accuracy                           0.94    113726\n",
      "   macro avg       0.94      0.94      0.94    113726\n",
      "weighted avg       0.94      0.94      0.94    113726\n",
      "\n"
     ]
    }
   ],
   "source": [
    "#Logistic Regression\n",
    "lr = LogisticRegression()\n",
    "st=time.time()\n",
    "lr.fit(X_train,Y_train)\n",
    "et=time.time()\n",
    "print(\"Training Time:\",et-st)\n",
    "Y_trainpred_lr=lr.predict(X_train)\n",
    "print(\"Training Accuracy Score: {}\".format(accuracy_score(Y_train,Y_trainpred_lr)))\n",
    "st=time.time()\n",
    "Y_pred_lr = lr.predict(X_test)\n",
    "et=time.time()\n",
    "print(\"Pred Time:\",et-st)\n",
    "print(\"Testing Accuracy Score: {}\".format(accuracy_score(Y_test,Y_pred_lr)))\n",
    "print('AUC Score: {}'.format(roc_auc_score(Y_test,Y_pred_lr,average='weighted')))\n",
    "print(classification_report(Y_test,Y_pred_lr))"
   ]
  },
  {
   "cell_type": "code",
   "execution_count": 18,
   "metadata": {
    "colab": {
     "base_uri": "https://localhost:8080/"
    },
    "executionInfo": {
     "elapsed": 972,
     "status": "ok",
     "timestamp": 1668212498282,
     "user": {
      "displayName": "Harsh Gordhan Dungrani",
      "userId": "06954894784251770833"
     },
     "user_tz": 360
    },
    "id": "s7K33sHPPUn4",
    "outputId": "553f0787-7101-4363-9e1a-10588ec7e6db"
   },
   "outputs": [
    {
     "name": "stdout",
     "output_type": "stream",
     "text": [
      "Training Time: 0.26113152503967285\n",
      "Training Accuracy Score: 0.8649429330144383\n",
      "Pred time: 0.08386349678039551\n",
      "Testing Accuracy Score: 0.863346991892795\n",
      "AUC Score: 0.8636565777685504\n",
      "              precision    recall  f1-score   support\n",
      "\n",
      "           0       0.79      0.99      0.88     56724\n",
      "           1       0.99      0.74      0.84     57002\n",
      "\n",
      "    accuracy                           0.86    113726\n",
      "   macro avg       0.89      0.86      0.86    113726\n",
      "weighted avg       0.89      0.86      0.86    113726\n",
      "\n"
     ]
    }
   ],
   "source": [
    "#Naive Bayes Classifier\n",
    "nb = GaussianNB()\n",
    "st=time.time()\n",
    "nb.fit(X_train,Y_train)\n",
    "et=time.time()\n",
    "print(\"Training Time:\",et-st)\n",
    "Y_trainpred_nb=nb.predict(X_train)\n",
    "print(\"Training Accuracy Score: {}\".format(accuracy_score(Y_train,Y_trainpred_nb)))\n",
    "st=time.time()\n",
    "Y_pred_nb = nb.predict(X_test)\n",
    "et=time.time()\n",
    "print(\"Pred time:\",et-st)\n",
    "print(\"Testing Accuracy Score: {}\".format(accuracy_score(Y_test,Y_pred_nb)))\n",
    "print('AUC Score: {}'.format(roc_auc_score(Y_test,Y_pred_nb,average='weighted')))\n",
    "print(classification_report(Y_test,Y_pred_nb))"
   ]
  },
  {
   "cell_type": "code",
   "execution_count": 19,
   "metadata": {
    "colab": {
     "base_uri": "https://localhost:8080/"
    },
    "executionInfo": {
     "elapsed": 152948,
     "status": "ok",
     "timestamp": 1668212651227,
     "user": {
      "displayName": "Harsh Gordhan Dungrani",
      "userId": "06954894784251770833"
     },
     "user_tz": 360
    },
    "id": "n6tQ21LtPXzN",
    "outputId": "e8701aa4-b977-47df-f24f-2bf9f76042ca"
   },
   "outputs": [
    {
     "name": "stdout",
     "output_type": "stream",
     "text": [
      "Training Time: 116.19336724281311\n",
      "Training Accuracy Score: 0.9662873925047922\n",
      "Pred time: 1.3022785186767578\n",
      "Testing Accuracy Score: 0.9667973902185956\n",
      "AUC Score: 0.9668343773462511\n",
      "              precision    recall  f1-score   support\n",
      "\n",
      "           0       0.95      0.98      0.97     56724\n",
      "           1       0.98      0.95      0.97     57002\n",
      "\n",
      "    accuracy                           0.97    113726\n",
      "   macro avg       0.97      0.97      0.97    113726\n",
      "weighted avg       0.97      0.97      0.97    113726\n",
      "\n"
     ]
    }
   ],
   "source": [
    "#AdaBoost Classifier\n",
    "abc = AdaBoostClassifier()\n",
    "st=time.time()\n",
    "abc.fit(X_train,Y_train)\n",
    "et=time.time()\n",
    "print(\"Training Time:\",et-st)\n",
    "Y_trainpred_abc=abc.predict(X_train)\n",
    "print(\"Training Accuracy Score: {}\".format(accuracy_score(Y_train,Y_trainpred_abc)))\n",
    "st=time.time()\n",
    "Y_pred_abc = abc.predict(X_test)\n",
    "et=time.time()\n",
    "print(\"Pred time:\",et-st)\n",
    "print(\"Testing Accuracy Score: {}\".format(accuracy_score(Y_test,Y_pred_abc)))\n",
    "print('AUC Score: {}'.format(roc_auc_score(Y_test,Y_pred_abc,average='weighted')))\n",
    "print(classification_report(Y_test,Y_pred_abc))"
   ]
  },
  {
   "cell_type": "code",
   "execution_count": 20,
   "metadata": {
    "colab": {
     "base_uri": "https://localhost:8080/"
    },
    "executionInfo": {
     "elapsed": 131512,
     "status": "ok",
     "timestamp": 1668212782724,
     "user": {
      "displayName": "Harsh Gordhan Dungrani",
      "userId": "06954894784251770833"
     },
     "user_tz": 360
    },
    "id": "_NXO2OeBPYYN",
    "outputId": "289ec64c-b1d7-47c6-ee3b-fbbeeec328d5"
   },
   "outputs": [
    {
     "name": "stdout",
     "output_type": "stream",
     "text": [
      "Training Time: 118.96628832817078\n",
      "Training Accuracy Score: 1.0\n",
      "Pred time: 0.1718733310699463\n",
      "Testing Accuracy Score: 0.9999296554877513\n",
      "AUC Score: 0.9999294831112051\n",
      "              precision    recall  f1-score   support\n",
      "\n",
      "           0       1.00      1.00      1.00     56724\n",
      "           1       1.00      1.00      1.00     57002\n",
      "\n",
      "    accuracy                           1.00    113726\n",
      "   macro avg       1.00      1.00      1.00    113726\n",
      "weighted avg       1.00      1.00      1.00    113726\n",
      "\n"
     ]
    }
   ],
   "source": [
    "#XGBoost Classifier\n",
    "import xgboost\n",
    "xgb = xgboost.XGBClassifier(objective=\"binary:logistic\")\n",
    "st=time.time()\n",
    "xgb.fit(X_train,Y_train)\n",
    "et=time.time()\n",
    "print(\"Training Time:\",et-st)\n",
    "Y_trainpred_xgb=xgb.predict(X_train)\n",
    "print(\"Training Accuracy Score: {}\".format(accuracy_score(Y_train,Y_trainpred_xgb)))\n",
    "st=time.time()\n",
    "Y_pred_xgb = xgb.predict(X_test)\n",
    "et=time.time()\n",
    "print(\"Pred time:\",et-st)\n",
    "print(\"Testing Accuracy Score: {}\".format(accuracy_score(Y_test,Y_pred_xgb)))\n",
    "print('AUC Score: {}'.format(roc_auc_score(Y_test,Y_pred_xgb,average='weighted')))\n",
    "print(classification_report(Y_test,Y_pred_xgb))"
   ]
  },
  {
   "cell_type": "code",
   "execution_count": null,
   "metadata": {},
   "outputs": [],
   "source": []
  }
 ],
 "metadata": {
  "colab": {
   "provenance": []
  },
  "kernelspec": {
   "display_name": "Python 3",
   "language": "python",
   "name": "python3"
  },
  "language_info": {
   "codemirror_mode": {
    "name": "ipython",
    "version": 3
   },
   "file_extension": ".py",
   "mimetype": "text/x-python",
   "name": "python",
   "nbconvert_exporter": "python",
   "pygments_lexer": "ipython3",
   "version": "3.8.5"
  }
 },
 "nbformat": 4,
 "nbformat_minor": 1
}
