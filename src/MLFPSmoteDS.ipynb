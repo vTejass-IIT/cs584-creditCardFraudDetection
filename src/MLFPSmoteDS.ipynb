{
 "cells": [
  {
   "cell_type": "code",
   "execution_count": 42,
   "metadata": {
    "executionInfo": {
     "elapsed": 1981,
     "status": "ok",
     "timestamp": 1670009345455,
     "user": {
      "displayName": "Harsh Gordhan Dungrani",
      "userId": "06954894784251770833"
     },
     "user_tz": 360
    },
    "id": "MRbY4e8N7GGW"
   },
   "outputs": [],
   "source": [
    "# import libraries \n",
    "import pandas as pd\n",
    "import numpy as np\n",
    "import seaborn as sns\n",
    "import matplotlib.pyplot as plt\n",
    "import time\n",
    "from sklearn.ensemble import RandomForestClassifier\n",
    "from sklearn.linear_model import LogisticRegression\n",
    "from sklearn.discriminant_analysis import LinearDiscriminantAnalysis\n",
    "from sklearn.tree import DecisionTreeClassifier\n",
    "from sklearn.naive_bayes import GaussianNB\n",
    "from sklearn.ensemble import AdaBoostClassifier\n",
    "from sklearn.metrics import accuracy_score\n",
    "from sklearn.metrics import classification_report\n",
    "from sklearn.metrics import roc_auc_score"
   ]
  },
  {
   "cell_type": "code",
   "execution_count": 43,
   "metadata": {
    "executionInfo": {
     "elapsed": 1399,
     "status": "ok",
     "timestamp": 1670009346849,
     "user": {
      "displayName": "Harsh Gordhan Dungrani",
      "userId": "06954894784251770833"
     },
     "user_tz": 360
    },
    "id": "2JlqI4ryPHYT"
   },
   "outputs": [],
   "source": [
    "import zipfile\n",
    "with zipfile.ZipFile('../content/creditcard.csv.zip', 'r') as zip_ref:\n",
    "    zip_ref.extractall('../content/')"
   ]
  },
  {
   "cell_type": "code",
   "execution_count": 44,
   "metadata": {
    "executionInfo": {
     "elapsed": 3074,
     "status": "ok",
     "timestamp": 1670009349920,
     "user": {
      "displayName": "Harsh Gordhan Dungrani",
      "userId": "06954894784251770833"
     },
     "user_tz": 360
    },
    "id": "4H3jy9WjcE0F"
   },
   "outputs": [],
   "source": [
    "data=pd.read_csv('../content/creditcard.csv')"
   ]
  },
  {
   "cell_type": "code",
   "execution_count": 45,
   "metadata": {
    "colab": {
     "base_uri": "https://localhost:8080/"
    },
    "executionInfo": {
     "elapsed": 6,
     "status": "ok",
     "timestamp": 1670009349920,
     "user": {
      "displayName": "Harsh Gordhan Dungrani",
      "userId": "06954894784251770833"
     },
     "user_tz": 360
    },
    "id": "ZjzvT_u1cHc-",
    "outputId": "bcae217b-f972-4a39-f064-b8ad33340b30"
   },
   "outputs": [
    {
     "data": {
      "text/plain": [
       "(284807, 31)"
      ]
     },
     "execution_count": 45,
     "metadata": {},
     "output_type": "execute_result"
    }
   ],
   "source": [
    "data.shape"
   ]
  },
  {
   "cell_type": "code",
   "execution_count": 46,
   "metadata": {
    "executionInfo": {
     "elapsed": 5,
     "status": "ok",
     "timestamp": 1670009349921,
     "user": {
      "displayName": "Harsh Gordhan Dungrani",
      "userId": "06954894784251770833"
     },
     "user_tz": 360
    },
    "id": "p8OCClfvcJro"
   },
   "outputs": [],
   "source": [
    "X = data.loc[:, data.columns != 'Class']\n",
    "Y = data.Class"
   ]
  },
  {
   "cell_type": "code",
   "execution_count": 47,
   "metadata": {
    "executionInfo": {
     "elapsed": 792,
     "status": "ok",
     "timestamp": 1670009350709,
     "user": {
      "displayName": "Harsh Gordhan Dungrani",
      "userId": "06954894784251770833"
     },
     "user_tz": 360
    },
    "id": "vAJrR959cycb"
   },
   "outputs": [],
   "source": [
    "#SMOTE\n",
    "from imblearn.over_sampling import SMOTE\n",
    "smote = SMOTE()\n",
    "X_SM, Y_SM = smote.fit_resample(X, Y)"
   ]
  },
  {
   "cell_type": "code",
   "execution_count": 48,
   "metadata": {
    "colab": {
     "base_uri": "https://localhost:8080/"
    },
    "executionInfo": {
     "elapsed": 6,
     "status": "ok",
     "timestamp": 1670009350710,
     "user": {
      "displayName": "Harsh Gordhan Dungrani",
      "userId": "06954894784251770833"
     },
     "user_tz": 360
    },
    "id": "4CF9CWE7dC_U",
    "outputId": "517d5c84-6d76-4fdf-b10d-e7a82caf8d2a"
   },
   "outputs": [
    {
     "name": "stdout",
     "output_type": "stream",
     "text": [
      "(568630, 30) (568630,)\n"
     ]
    }
   ],
   "source": [
    "print(X_SM.shape,Y_SM.shape)"
   ]
  },
  {
   "cell_type": "code",
   "execution_count": 49,
   "metadata": {
    "colab": {
     "base_uri": "https://localhost:8080/"
    },
    "executionInfo": {
     "elapsed": 120,
     "status": "ok",
     "timestamp": 1670009350827,
     "user": {
      "displayName": "Harsh Gordhan Dungrani",
      "userId": "06954894784251770833"
     },
     "user_tz": 360
    },
    "id": "NIEO9GCWPd0B",
    "outputId": "c6ea6287-2e77-4bd8-e9b0-69f6f56526e5"
   },
   "outputs": [
    {
     "name": "stdout",
     "output_type": "stream",
     "text": [
      "(568630, 31)\n",
      "Class\n",
      "0    284315\n",
      "1    284315\n",
      "dtype: int64\n"
     ]
    }
   ],
   "source": [
    "data_SM = pd.concat([X_SM, Y_SM], axis=1)\n",
    "print(data_SM.shape)\n",
    "print(data_SM.groupby('Class').size())"
   ]
  },
  {
   "cell_type": "code",
   "execution_count": 50,
   "metadata": {
    "colab": {
     "base_uri": "https://localhost:8080/",
     "height": 386
    },
    "executionInfo": {
     "elapsed": 190,
     "status": "ok",
     "timestamp": 1670009351013,
     "user": {
      "displayName": "Harsh Gordhan Dungrani",
      "userId": "06954894784251770833"
     },
     "user_tz": 360
    },
    "id": "-QhknIV2PmFZ",
    "outputId": "bd1212a2-a92a-4477-9c62-a8412c893082"
   },
   "outputs": [
    {
     "name": "stdout",
     "output_type": "stream",
     "text": [
      "0    284315\n",
      "1    284315\n",
      "Name: Class, dtype: int64\n"
     ]
    },
    {
     "data": {
      "image/png": "[encoded data removed]",
      "text/plain": [
       "<Figure size 640x480 with 1 Axes>"
      ]
     },
     "metadata": {},
     "output_type": "display_data"
    }
   ],
   "source": [
    "#Fradulent/ Non-Fradulent Samples Plot\n",
    "y = data_SM[\"Class\"]\n",
    "sns.countplot(y)\n",
    "target_temp = data_SM.Class.value_counts()\n",
    "print(target_temp)"
   ]
  },
  {
   "cell_type": "code",
   "execution_count": 10,
   "metadata": {
    "colab": {
     "base_uri": "https://localhost:8080/"
    },
    "executionInfo": {
     "elapsed": 106,
     "status": "ok",
     "timestamp": 1670009351117,
     "user": {
      "displayName": "Harsh Gordhan Dungrani",
      "userId": "06954894784251770833"
     },
     "user_tz": 360
    },
    "id": "_t-VvbpbP61j",
    "outputId": "6cec73e1-8416-4f57-a916-d39785e2eab8"
   },
   "outputs": [
    {
     "name": "stdout",
     "output_type": "stream",
     "text": [
      "<class 'pandas.core.frame.DataFrame'>\n",
      "RangeIndex: 568630 entries, 0 to 568629\n",
      "Data columns (total 31 columns):\n",
      " #   Column  Non-Null Count   Dtype  \n",
      "---  ------  --------------   -----  \n",
      " 0   Time    568630 non-null  float64\n",
      " 1   V1      568630 non-null  float64\n",
      " 2   V2      568630 non-null  float64\n",
      " 3   V3      568630 non-null  float64\n",
      " 4   V4      568630 non-null  float64\n",
      " 5   V5      568630 non-null  float64\n",
      " 6   V6      568630 non-null  float64\n",
      " 7   V7      568630 non-null  float64\n",
      " 8   V8      568630 non-null  float64\n",
      " 9   V9      568630 non-null  float64\n",
      " 10  V10     568630 non-null  float64\n",
      " 11  V11     568630 non-null  float64\n",
      " 12  V12     568630 non-null  float64\n",
      " 13  V13     568630 non-null  float64\n",
      " 14  V14     568630 non-null  float64\n",
      " 15  V15     568630 non-null  float64\n",
      " 16  V16     568630 non-null  float64\n",
      " 17  V17     568630 non-null  float64\n",
      " 18  V18     568630 non-null  float64\n",
      " 19  V19     568630 non-null  float64\n",
      " 20  V20     568630 non-null  float64\n",
      " 21  V21     568630 non-null  float64\n",
      " 22  V22     568630 non-null  float64\n",
      " 23  V23     568630 non-null  float64\n",
      " 24  V24     568630 non-null  float64\n",
      " 25  V25     568630 non-null  float64\n",
      " 26  V26     568630 non-null  float64\n",
      " 27  V27     568630 non-null  float64\n",
      " 28  V28     568630 non-null  float64\n",
      " 29  Amount  568630 non-null  float64\n",
      " 30  Class   568630 non-null  int64  \n",
      "dtypes: float64(30), int64(1)\n",
      "memory usage: 134.5 MB\n"
     ]
    }
   ],
   "source": [
    "data_SM.info()"
   ]
  },
  {
   "cell_type": "code",
   "execution_count": 11,
   "metadata": {
    "colab": {
     "base_uri": "https://localhost:8080/",
     "height": 394
    },
    "executionInfo": {
     "elapsed": 1160,
     "status": "ok",
     "timestamp": 1670009352276,
     "user": {
      "displayName": "Harsh Gordhan Dungrani",
      "userId": "06954894784251770833"
     },
     "user_tz": 360
    },
    "id": "ba3sghO6P4zp",
    "outputId": "d308fb2b-3b9e-44d9-933f-333cc46bca76"
   },
   "outputs": [
    {
     "data": {
      "text/html": [
       "<div>\n",
       "<style scoped>\n",
       "    .dataframe tbody tr th:only-of-type {\n",
       "        vertical-align: middle;\n",
       "    }\n",
       "\n",
       "    .dataframe tbody tr th {\n",
       "        vertical-align: top;\n",
       "    }\n",
       "\n",
       "    .dataframe thead th {\n",
       "        text-align: right;\n",
       "    }\n",
       "</style>\n",
       "<table border=\"1\" class=\"dataframe\">\n",
       "  <thead>\n",
       "    <tr style=\"text-align: right;\">\n",
       "      <th></th>\n",
       "      <th>Time</th>\n",
       "      <th>V1</th>\n",
       "      <th>V2</th>\n",
       "      <th>V3</th>\n",
       "      <th>V4</th>\n",
       "      <th>V5</th>\n",
       "      <th>V6</th>\n",
       "      <th>V7</th>\n",
       "      <th>V8</th>\n",
       "      <th>V9</th>\n",
       "      <th>...</th>\n",
       "      <th>V21</th>\n",
       "      <th>V22</th>\n",
       "      <th>V23</th>\n",
       "      <th>V24</th>\n",
       "      <th>V25</th>\n",
       "      <th>V26</th>\n",
       "      <th>V27</th>\n",
       "      <th>V28</th>\n",
       "      <th>Amount</th>\n",
       "      <th>Class</th>\n",
       "    </tr>\n",
       "  </thead>\n",
       "  <tbody>\n",
       "    <tr>\n",
       "      <th>count</th>\n",
       "      <td>568630.000000</td>\n",
       "      <td>568630.000000</td>\n",
       "      <td>568630.000000</td>\n",
       "      <td>568630.000000</td>\n",
       "      <td>568630.000000</td>\n",
       "      <td>568630.000000</td>\n",
       "      <td>568630.000000</td>\n",
       "      <td>568630.000000</td>\n",
       "      <td>568630.000000</td>\n",
       "      <td>568630.000000</td>\n",
       "      <td>...</td>\n",
       "      <td>568630.000000</td>\n",
       "      <td>568630.000000</td>\n",
       "      <td>568630.000000</td>\n",
       "      <td>568630.000000</td>\n",
       "      <td>568630.000000</td>\n",
       "      <td>568630.000000</td>\n",
       "      <td>568630.000000</td>\n",
       "      <td>568630.000000</td>\n",
       "      <td>568630.000000</td>\n",
       "      <td>568630.0</td>\n",
       "    </tr>\n",
       "    <tr>\n",
       "      <th>mean</th>\n",
       "      <td>87794.875173</td>\n",
       "      <td>-2.478320</td>\n",
       "      <td>1.913414</td>\n",
       "      <td>-3.649410</td>\n",
       "      <td>2.329081</td>\n",
       "      <td>-1.629455</td>\n",
       "      <td>-0.720250</td>\n",
       "      <td>-2.926683</td>\n",
       "      <td>0.283592</td>\n",
       "      <td>-1.330592</td>\n",
       "      <td>...</td>\n",
       "      <td>0.396653</td>\n",
       "      <td>-0.008643</td>\n",
       "      <td>-0.005739</td>\n",
       "      <td>-0.054255</td>\n",
       "      <td>0.026514</td>\n",
       "      <td>0.028363</td>\n",
       "      <td>0.080798</td>\n",
       "      <td>0.041724</td>\n",
       "      <td>95.742985</td>\n",
       "      <td>0.5</td>\n",
       "    </tr>\n",
       "    <tr>\n",
       "      <th>std</th>\n",
       "      <td>48137.756660</td>\n",
       "      <td>5.446285</td>\n",
       "      <td>3.630037</td>\n",
       "      <td>6.148374</td>\n",
       "      <td>3.143478</td>\n",
       "      <td>4.133528</td>\n",
       "      <td>1.705718</td>\n",
       "      <td>5.700196</td>\n",
       "      <td>4.933836</td>\n",
       "      <td>2.224608</td>\n",
       "      <td>...</td>\n",
       "      <td>2.829707</td>\n",
       "      <td>1.159355</td>\n",
       "      <td>1.016057</td>\n",
       "      <td>0.540182</td>\n",
       "      <td>0.613508</td>\n",
       "      <td>0.447507</td>\n",
       "      <td>0.950813</td>\n",
       "      <td>0.418061</td>\n",
       "      <td>220.685098</td>\n",
       "      <td>0.5</td>\n",
       "    </tr>\n",
       "    <tr>\n",
       "      <th>min</th>\n",
       "      <td>0.000000</td>\n",
       "      <td>-56.407510</td>\n",
       "      <td>-72.715728</td>\n",
       "      <td>-48.325589</td>\n",
       "      <td>-5.683171</td>\n",
       "      <td>-113.743307</td>\n",
       "      <td>-26.160506</td>\n",
       "      <td>-43.557242</td>\n",
       "      <td>-73.216718</td>\n",
       "      <td>-13.434066</td>\n",
       "      <td>...</td>\n",
       "      <td>-34.830382</td>\n",
       "      <td>-10.933144</td>\n",
       "      <td>-44.807735</td>\n",
       "      <td>-2.836627</td>\n",
       "      <td>-10.295397</td>\n",
       "      <td>-2.604551</td>\n",
       "      <td>-22.565679</td>\n",
       "      <td>-15.430084</td>\n",
       "      <td>0.000000</td>\n",
       "      <td>0.0</td>\n",
       "    </tr>\n",
       "    <tr>\n",
       "      <th>25%</th>\n",
       "      <td>45955.627847</td>\n",
       "      <td>-3.066713</td>\n",
       "      <td>-0.098044</td>\n",
       "      <td>-5.238260</td>\n",
       "      <td>-0.054827</td>\n",
       "      <td>-1.825535</td>\n",
       "      <td>-1.556476</td>\n",
       "      <td>-3.254681</td>\n",
       "      <td>-0.197604</td>\n",
       "      <td>-2.325940</td>\n",
       "      <td>...</td>\n",
       "      <td>-0.157523</td>\n",
       "      <td>-0.499121</td>\n",
       "      <td>-0.224355</td>\n",
       "      <td>-0.383876</td>\n",
       "      <td>-0.302876</td>\n",
       "      <td>-0.267113</td>\n",
       "      <td>-0.067814</td>\n",
       "      <td>-0.057180</td>\n",
       "      <td>3.370520</td>\n",
       "      <td>0.0</td>\n",
       "    </tr>\n",
       "    <tr>\n",
       "      <th>50%</th>\n",
       "      <td>80314.000000</td>\n",
       "      <td>-0.820744</td>\n",
       "      <td>1.017694</td>\n",
       "      <td>-1.555439</td>\n",
       "      <td>1.485019</td>\n",
       "      <td>-0.444074</td>\n",
       "      <td>-0.694579</td>\n",
       "      <td>-0.754413</td>\n",
       "      <td>0.169198</td>\n",
       "      <td>-0.808729</td>\n",
       "      <td>...</td>\n",
       "      <td>0.162086</td>\n",
       "      <td>0.020320</td>\n",
       "      <td>-0.026894</td>\n",
       "      <td>-0.007672</td>\n",
       "      <td>0.044342</td>\n",
       "      <td>-0.006437</td>\n",
       "      <td>0.058242</td>\n",
       "      <td>0.036835</td>\n",
       "      <td>25.000000</td>\n",
       "      <td>0.5</td>\n",
       "    </tr>\n",
       "    <tr>\n",
       "      <th>75%</th>\n",
       "      <td>134665.000000</td>\n",
       "      <td>0.825534</td>\n",
       "      <td>2.891819</td>\n",
       "      <td>0.266499</td>\n",
       "      <td>4.348198</td>\n",
       "      <td>0.429872</td>\n",
       "      <td>0.023005</td>\n",
       "      <td>0.186439</td>\n",
       "      <td>0.854459</td>\n",
       "      <td>0.079539</td>\n",
       "      <td>...</td>\n",
       "      <td>0.651009</td>\n",
       "      <td>0.526725</td>\n",
       "      <td>0.187065</td>\n",
       "      <td>0.340979</td>\n",
       "      <td>0.368168</td>\n",
       "      <td>0.307982</td>\n",
       "      <td>0.433624</td>\n",
       "      <td>0.214167</td>\n",
       "      <td>99.990000</td>\n",
       "      <td>1.0</td>\n",
       "    </tr>\n",
       "    <tr>\n",
       "      <th>max</th>\n",
       "      <td>172792.000000</td>\n",
       "      <td>2.454930</td>\n",
       "      <td>22.057729</td>\n",
       "      <td>9.382558</td>\n",
       "      <td>16.875344</td>\n",
       "      <td>34.801666</td>\n",
       "      <td>73.301626</td>\n",
       "      <td>120.589494</td>\n",
       "      <td>20.007208</td>\n",
       "      <td>15.594995</td>\n",
       "      <td>...</td>\n",
       "      <td>27.202839</td>\n",
       "      <td>10.503090</td>\n",
       "      <td>22.528412</td>\n",
       "      <td>4.584549</td>\n",
       "      <td>7.519589</td>\n",
       "      <td>3.517346</td>\n",
       "      <td>31.612198</td>\n",
       "      <td>33.847808</td>\n",
       "      <td>25691.160000</td>\n",
       "      <td>1.0</td>\n",
       "    </tr>\n",
       "  </tbody>\n",
       "</table>\n",
       "<p>8 rows × 31 columns</p>\n",
       "</div>"
      ],
      "text/plain": [
       "                Time             V1             V2             V3  \\\n",
       "count  568630.000000  568630.000000  568630.000000  568630.000000   \n",
       "mean    87794.875173      -2.478320       1.913414      -3.649410   \n",
       "std     48137.756660       5.446285       3.630037       6.148374   \n",
       "min         0.000000     -56.407510     -72.715728     -48.325589   \n",
       "25%     45955.627847      -3.066713      -0.098044      -5.238260   \n",
       "50%     80314.000000      -0.820744       1.017694      -1.555439   \n",
       "75%    134665.000000       0.825534       2.891819       0.266499   \n",
       "max    172792.000000       2.454930      22.057729       9.382558   \n",
       "\n",
       "                  V4             V5             V6             V7  \\\n",
       "count  568630.000000  568630.000000  568630.000000  568630.000000   \n",
       "mean        2.329081      -1.629455      -0.720250      -2.926683   \n",
       "std         3.143478       4.133528       1.705718       5.700196   \n",
       "min        -5.683171    -113.743307     -26.160506     -43.557242   \n",
       "25%        -0.054827      -1.825535      -1.556476      -3.254681   \n",
       "50%         1.485019      -0.444074      -0.694579      -0.754413   \n",
       "75%         4.348198       0.429872       0.023005       0.186439   \n",
       "max        16.875344      34.801666      73.301626     120.589494   \n",
       "\n",
       "                  V8             V9  ...            V21            V22  \\\n",
       "count  568630.000000  568630.000000  ...  568630.000000  568630.000000   \n",
       "mean        0.283592      -1.330592  ...       0.396653      -0.008643   \n",
       "std         4.933836       2.224608  ...       2.829707       1.159355   \n",
       "min       -73.216718     -13.434066  ...     -34.830382     -10.933144   \n",
       "25%        -0.197604      -2.325940  ...      -0.157523      -0.499121   \n",
       "50%         0.169198      -0.808729  ...       0.162086       0.020320   \n",
       "75%         0.854459       0.079539  ...       0.651009       0.526725   \n",
       "max        20.007208      15.594995  ...      27.202839      10.503090   \n",
       "\n",
       "                 V23            V24            V25            V26  \\\n",
       "count  568630.000000  568630.000000  568630.000000  568630.000000   \n",
       "mean       -0.005739      -0.054255       0.026514       0.028363   \n",
       "std         1.016057       0.540182       0.613508       0.447507   \n",
       "min       -44.807735      -2.836627     -10.295397      -2.604551   \n",
       "25%        -0.224355      -0.383876      -0.302876      -0.267113   \n",
       "50%        -0.026894      -0.007672       0.044342      -0.006437   \n",
       "75%         0.187065       0.340979       0.368168       0.307982   \n",
       "max        22.528412       4.584549       7.519589       3.517346   \n",
       "\n",
       "                 V27            V28         Amount     Class  \n",
       "count  568630.000000  568630.000000  568630.000000  568630.0  \n",
       "mean        0.080798       0.041724      95.742985       0.5  \n",
       "std         0.950813       0.418061     220.685098       0.5  \n",
       "min       -22.565679     -15.430084       0.000000       0.0  \n",
       "25%        -0.067814      -0.057180       3.370520       0.0  \n",
       "50%         0.058242       0.036835      25.000000       0.5  \n",
       "75%         0.433624       0.214167      99.990000       1.0  \n",
       "max        31.612198      33.847808   25691.160000       1.0  \n",
       "\n",
       "[8 rows x 31 columns]"
      ]
     },
     "execution_count": 11,
     "metadata": {},
     "output_type": "execute_result"
    }
   ],
   "source": [
    "data_SM.describe()"
   ]
  },
  {
   "cell_type": "code",
   "execution_count": 12,
   "metadata": {
    "colab": {
     "base_uri": "https://localhost:8080/",
     "height": 896
    },
    "executionInfo": {
     "elapsed": 1617,
     "status": "ok",
     "timestamp": 1670009353891,
     "user": {
      "displayName": "Harsh Gordhan Dungrani",
      "userId": "06954894784251770833"
     },
     "user_tz": 360
    },
    "id": "nFntwAugP-kp",
    "outputId": "0823699f-15ab-46b1-a9de-c0fbed74640a"
   },
   "outputs": [
    {
     "data": {
      "image/png": "[encoded data removed]",
      "text/plain": [
       "<Figure size 1500x1500 with 2 Axes>"
      ]
     },
     "metadata": {},
     "output_type": "display_data"
    }
   ],
   "source": [
    "# Correlation map\n",
    "plt.figure(figsize=(15, 15))\n",
    "sns.heatmap(data.corr(), cmap = \"Blues\")\n",
    "plt.show()"
   ]
  },
  {
   "cell_type": "code",
   "execution_count": 13,
   "metadata": {
    "colab": {
     "base_uri": "https://localhost:8080/"
    },
    "executionInfo": {
     "elapsed": 1701,
     "status": "ok",
     "timestamp": 1670009355588,
     "user": {
      "displayName": "Harsh Gordhan Dungrani",
      "userId": "06954894784251770833"
     },
     "user_tz": 360
    },
    "id": "kToedMHDQA0X",
    "outputId": "d487ff81-5efe-451d-881f-4d98a73a1bad"
   },
   "outputs": [
    {
     "name": "stdout",
     "output_type": "stream",
     "text": [
      "Class     1.000000\n",
      "V4        0.743426\n",
      "V11       0.719303\n",
      "V2        0.528834\n",
      "V19       0.295361\n",
      "V20       0.178921\n",
      "V21       0.140611\n",
      "V28       0.100117\n",
      "V27       0.085288\n",
      "V26       0.063580\n",
      "V8        0.057679\n",
      "V25       0.043334\n",
      "Amount    0.033767\n",
      "V23      -0.005717\n",
      "V22      -0.007434\n",
      "V13      -0.047573\n",
      "V15      -0.056303\n",
      "V24      -0.100775\n",
      "Time     -0.146316\n",
      "V5       -0.395524\n",
      "V6       -0.423675\n",
      "V1       -0.456564\n",
      "V18      -0.498521\n",
      "V7       -0.515126\n",
      "V17      -0.593438\n",
      "V3       -0.595537\n",
      "V9       -0.600132\n",
      "V16      -0.629036\n",
      "V10      -0.661573\n",
      "V12      -0.711783\n",
      "V14      -0.788147\n",
      "Name: Class, dtype: float64\n"
     ]
    }
   ],
   "source": [
    "print(data_SM.corr()[\"Class\"].sort_values(ascending=False))"
   ]
  },
  {
   "cell_type": "code",
   "execution_count": 14,
   "metadata": {
    "executionInfo": {
     "elapsed": 358,
     "status": "ok",
     "timestamp": 1670009355943,
     "user": {
      "displayName": "Harsh Gordhan Dungrani",
      "userId": "06954894784251770833"
     },
     "user_tz": 360
    },
    "id": "Q61abTSGdLfd"
   },
   "outputs": [],
   "source": [
    "#Split the dataset into train and test set\n",
    "from sklearn.model_selection import train_test_split\n",
    "\n",
    "predictors = data.drop(\"Class\",axis=1)\n",
    "target = data[\"Class\"]\n",
    "\n",
    "X_train,X_test,Y_train,Y_test = train_test_split(X_SM,Y_SM,test_size=0.20,random_state=0)"
   ]
  },
  {
   "cell_type": "code",
   "execution_count": 15,
   "metadata": {
    "colab": {
     "base_uri": "https://localhost:8080/"
    },
    "executionInfo": {
     "elapsed": 4,
     "status": "ok",
     "timestamp": 1670009356081,
     "user": {
      "displayName": "Harsh Gordhan Dungrani",
      "userId": "06954894784251770833"
     },
     "user_tz": 360
    },
    "id": "fmHmz9aMdOh7",
    "outputId": "b3fa801c-977c-481d-a28a-8bf049a35e93"
   },
   "outputs": [
    {
     "name": "stdout",
     "output_type": "stream",
     "text": [
      "(454904, 30) (454904,) (113726, 30) (113726,)\n"
     ]
    }
   ],
   "source": [
    "print(X_train.shape,Y_train.shape,X_test.shape,Y_test.shape)"
   ]
  },
  {
   "cell_type": "code",
   "execution_count": 51,
   "metadata": {
    "colab": {
     "base_uri": "https://localhost:8080/"
    },
    "executionInfo": {
     "elapsed": 544816,
     "status": "ok",
     "timestamp": 1668213630831,
     "user": {
      "displayName": "Harsh Gordhan Dungrani",
      "userId": "06954894784251770833"
     },
     "user_tz": 360
    },
    "id": "Eggyo6SnPJS9",
    "outputId": "6145615e-313a-449d-f7e9-8b66731464ef"
   },
   "outputs": [
    {
     "name": "stdout",
     "output_type": "stream",
     "text": [
      "Training Time: 206.79902172088623\n",
      "Training Accuracy Score: 1.0\n",
      "Pred Time: 0.8057940006256104\n",
      "Testing Accuracy Score: 0.9998856901675958\n",
      "AUC Score: 0.9998854100557084\n",
      "              precision    recall  f1-score   support\n",
      "\n",
      "           0       1.00      1.00      1.00     56724\n",
      "           1       1.00      1.00      1.00     57002\n",
      "\n",
      "    accuracy                           1.00    113726\n",
      "   macro avg       1.00      1.00      1.00    113726\n",
      "weighted avg       1.00      1.00      1.00    113726\n",
      "\n"
     ]
    }
   ],
   "source": [
    "#Random Forest\n",
    "rf = RandomForestClassifier()\n",
    "st=time.time()\n",
    "rf.fit(X_train,Y_train)\n",
    "et=time.time()\n",
    "print(\"Training Time:\",et-st)\n",
    "Y_trainpred_rf=rf.predict(X_train)\n",
    "print(\"Training Accuracy Score: {}\".format(accuracy_score(Y_train,Y_trainpred_rf)))\n",
    "st=time.time()\n",
    "Y_pred_rf = rf.predict(X_test)\n",
    "et=time.time()\n",
    "print(\"Pred Time:\",et-st)\n",
    "print(\"Testing Accuracy Score: {}\".format(accuracy_score(Y_test,Y_pred_rf)))\n",
    "print('AUC Score: {}'.format(roc_auc_score(Y_test,Y_pred_rf,average='weighted')))\n",
    "print(classification_report(Y_test,Y_pred_rf))"
   ]
  },
  {
   "cell_type": "code",
   "execution_count": 52,
   "metadata": {
    "colab": {
     "base_uri": "https://localhost:8080/"
    },
    "executionInfo": {
     "elapsed": 57625,
     "status": "ok",
     "timestamp": 1668587817611,
     "user": {
      "displayName": "Harsh Gordhan Dungrani",
      "userId": "06954894784251770833"
     },
     "user_tz": 360
    },
    "id": "tHvSWftEPM5P",
    "outputId": "2fe185c6-8e6c-4d51-ca5e-12292e6068a1"
   },
   "outputs": [
    {
     "name": "stdout",
     "output_type": "stream",
     "text": [
      "Training Time: 26.231626987457275\n",
      "Training Accuracy Score: 1.0\n",
      "Pred Time: 0.016894817352294922\n",
      "Testing Accuracy Score: 0.9984875929866521\n",
      "AUC Score: 0.998486208299665\n",
      "              precision    recall  f1-score   support\n",
      "\n",
      "           0       1.00      1.00      1.00     56724\n",
      "           1       1.00      1.00      1.00     57002\n",
      "\n",
      "    accuracy                           1.00    113726\n",
      "   macro avg       1.00      1.00      1.00    113726\n",
      "weighted avg       1.00      1.00      1.00    113726\n",
      "\n"
     ]
    }
   ],
   "source": [
    "#Decision Tree\n",
    "dt = DecisionTreeClassifier()\n",
    "st=time.time()\n",
    "dt.fit(X_train,Y_train)\n",
    "et=time.time()\n",
    "print(\"Training Time:\",et-st)\n",
    "Y_trainpred_dt=dt.predict(X_train)\n",
    "print(\"Training Accuracy Score: {}\".format(accuracy_score(Y_train,Y_trainpred_dt)))\n",
    "st=time.time()\n",
    "Y_pred_dt = dt.predict(X_test)\n",
    "et=time.time()\n",
    "print(\"Pred Time:\",et-st)\n",
    "print(\"Testing Accuracy Score: {}\".format(accuracy_score(Y_test,Y_pred_dt)))\n",
    "print('AUC Score: {}'.format(roc_auc_score(Y_test,Y_pred_dt,average='weighted')))\n",
    "print(classification_report(Y_test,Y_pred_dt))"
   ]
  },
  {
   "cell_type": "code",
   "execution_count": 53,
   "metadata": {
    "colab": {
     "base_uri": "https://localhost:8080/"
    },
    "executionInfo": {
     "elapsed": 3084,
     "status": "ok",
     "timestamp": 1668213698607,
     "user": {
      "displayName": "Harsh Gordhan Dungrani",
      "userId": "06954894784251770833"
     },
     "user_tz": 360
    },
    "id": "yp-R8AoMPQba",
    "outputId": "e0ee4c92-96d5-4fa8-df54-5df89807b38c"
   },
   "outputs": [
    {
     "name": "stdout",
     "output_type": "stream",
     "text": [
      "Training Time: 1.316802740097046\n",
      "Training Accuracy Score: 0.9327088792360586\n",
      "Pred Time: 0.010579824447631836\n",
      "Testing Accuracy Score: 0.9327770254822996\n",
      "AUC Score: 0.9329129635681636\n",
      "              precision    recall  f1-score   support\n",
      "\n",
      "           0       0.89      0.99      0.94     56724\n",
      "           1       0.99      0.88      0.93     57002\n",
      "\n",
      "    accuracy                           0.93    113726\n",
      "   macro avg       0.94      0.93      0.93    113726\n",
      "weighted avg       0.94      0.93      0.93    113726\n",
      "\n"
     ]
    }
   ],
   "source": [
    "#LDA\n",
    "lda = LinearDiscriminantAnalysis()\n",
    "st=time.time()\n",
    "lda.fit(X_train,Y_train)\n",
    "et=time.time()\n",
    "print(\"Training Time:\",et-st)\n",
    "Y_trainpred_lda=lda.predict(X_train)\n",
    "print(\"Training Accuracy Score: {}\".format(accuracy_score(Y_train,Y_trainpred_lda)))\n",
    "st=time.time()\n",
    "Y_pred_lda = lda.predict(X_test)\n",
    "et=time.time()\n",
    "print(\"Pred Time:\",et-st)\n",
    "print(\"Testing Accuracy Score: {}\".format(accuracy_score(Y_test,Y_pred_lda)))\n",
    "print('AUC Score: {}'.format(roc_auc_score(Y_test,Y_pred_lda,average='weighted')))\n",
    "print(classification_report(Y_test,Y_pred_lda))"
   ]
  },
  {
   "cell_type": "code",
   "execution_count": 54,
   "metadata": {
    "colab": {
     "base_uri": "https://localhost:8080/"
    },
    "executionInfo": {
     "elapsed": 8485,
     "status": "ok",
     "timestamp": 1668213707073,
     "user": {
      "displayName": "Harsh Gordhan Dungrani",
      "userId": "06954894784251770833"
     },
     "user_tz": 360
    },
    "id": "fXXXAnNkPS4f",
    "outputId": "c5985b64-0cfa-47e3-90b0-cc39c929e7e2"
   },
   "outputs": [
    {
     "name": "stdout",
     "output_type": "stream",
     "text": [
      "Training Time: 3.031424045562744\n",
      "Training Accuracy Score: 0.9721193922234141\n",
      "Pred Time: 0.006412029266357422\n",
      "Testing Accuracy Score: 0.9722402968538417\n",
      "AUC Score: 0.9722591106423643\n",
      "              precision    recall  f1-score   support\n",
      "\n",
      "           0       0.96      0.98      0.97     56724\n",
      "           1       0.98      0.96      0.97     57002\n",
      "\n",
      "    accuracy                           0.97    113726\n",
      "   macro avg       0.97      0.97      0.97    113726\n",
      "weighted avg       0.97      0.97      0.97    113726\n",
      "\n"
     ]
    }
   ],
   "source": [
    "#Logistic Regression\n",
    "lr = LogisticRegression()\n",
    "st=time.time()\n",
    "lr.fit(X_train,Y_train)\n",
    "et=time.time()\n",
    "print(\"Training Time:\",et-st)\n",
    "Y_trainpred_lr=lr.predict(X_train)\n",
    "print(\"Training Accuracy Score: {}\".format(accuracy_score(Y_train,Y_trainpred_lr)))\n",
    "st=time.time()\n",
    "Y_pred_lr = lr.predict(X_test)\n",
    "et=time.time()\n",
    "print(\"Pred Time:\",et-st)\n",
    "print(\"Testing Accuracy Score: {}\".format(accuracy_score(Y_test,Y_pred_lr)))\n",
    "print('AUC Score: {}'.format(roc_auc_score(Y_test,Y_pred_lr,average='weighted')))\n",
    "print(classification_report(Y_test,Y_pred_lr))"
   ]
  },
  {
   "cell_type": "code",
   "execution_count": 55,
   "metadata": {
    "colab": {
     "base_uri": "https://localhost:8080/"
    },
    "executionInfo": {
     "elapsed": 779,
     "status": "ok",
     "timestamp": 1668213707841,
     "user": {
      "displayName": "Harsh Gordhan Dungrani",
      "userId": "06954894784251770833"
     },
     "user_tz": 360
    },
    "id": "s7K33sHPPUn4",
    "outputId": "3fe89339-44a6-4c24-e3c1-cb1206e5a655"
   },
   "outputs": [
    {
     "name": "stdout",
     "output_type": "stream",
     "text": [
      "Training Time: 0.13635516166687012\n",
      "Training Accuracy Score: 0.8681304187257092\n",
      "Pred time: 0.01990199089050293\n",
      "Testing Accuracy Score: 0.8680512811494293\n",
      "AUC Score: 0.8683541673490793\n",
      "              precision    recall  f1-score   support\n",
      "\n",
      "           0       0.79      0.99      0.88     56724\n",
      "           1       0.99      0.74      0.85     57002\n",
      "\n",
      "    accuracy                           0.87    113726\n",
      "   macro avg       0.89      0.87      0.87    113726\n",
      "weighted avg       0.89      0.87      0.87    113726\n",
      "\n"
     ]
    }
   ],
   "source": [
    "#Naive Bayes Classifier\n",
    "nb = GaussianNB()\n",
    "st=time.time()\n",
    "nb.fit(X_train,Y_train)\n",
    "et=time.time()\n",
    "print(\"Training Time:\",et-st)\n",
    "Y_trainpred_nb=nb.predict(X_train)\n",
    "print(\"Training Accuracy Score: {}\".format(accuracy_score(Y_train,Y_trainpred_nb)))\n",
    "st=time.time()\n",
    "Y_pred_nb = nb.predict(X_test)\n",
    "et=time.time()\n",
    "print(\"Pred time:\",et-st)\n",
    "print(\"Testing Accuracy Score: {}\".format(accuracy_score(Y_test,Y_pred_nb)))\n",
    "print('AUC Score: {}'.format(roc_auc_score(Y_test,Y_pred_nb,average='weighted')))\n",
    "print(classification_report(Y_test,Y_pred_nb))"
   ]
  },
  {
   "cell_type": "code",
   "execution_count": 56,
   "metadata": {
    "colab": {
     "base_uri": "https://localhost:8080/"
    },
    "executionInfo": {
     "elapsed": 187197,
     "status": "ok",
     "timestamp": 1668213895037,
     "user": {
      "displayName": "Harsh Gordhan Dungrani",
      "userId": "06954894784251770833"
     },
     "user_tz": 360
    },
    "id": "n6tQ21LtPXzN",
    "outputId": "e76f9a4f-d2a2-4f11-d089-cd0960ff7fcb"
   },
   "outputs": [
    {
     "name": "stdout",
     "output_type": "stream",
     "text": [
      "Training Time: 72.6578278541565\n",
      "Training Accuracy Score: 0.9810179730228795\n",
      "Pred time: 0.327070951461792\n",
      "Testing Accuracy Score: 0.9808750857323743\n",
      "AUC Score: 0.9808898241689917\n",
      "              precision    recall  f1-score   support\n",
      "\n",
      "           0       0.98      0.99      0.98     56724\n",
      "           1       0.99      0.97      0.98     57002\n",
      "\n",
      "    accuracy                           0.98    113726\n",
      "   macro avg       0.98      0.98      0.98    113726\n",
      "weighted avg       0.98      0.98      0.98    113726\n",
      "\n"
     ]
    }
   ],
   "source": [
    "#AdaBoost Classifier\n",
    "abc = AdaBoostClassifier()\n",
    "st=time.time()\n",
    "abc.fit(X_train,Y_train)\n",
    "et=time.time()\n",
    "print(\"Training Time:\",et-st)\n",
    "Y_trainpred_abc=abc.predict(X_train)\n",
    "print(\"Training Accuracy Score: {}\".format(accuracy_score(Y_train,Y_trainpred_abc)))\n",
    "st=time.time()\n",
    "Y_pred_abc = abc.predict(X_test)\n",
    "et=time.time()\n",
    "print(\"Pred time:\",et-st)\n",
    "print(\"Testing Accuracy Score: {}\".format(accuracy_score(Y_test,Y_pred_abc)))\n",
    "print('AUC Score: {}'.format(roc_auc_score(Y_test,Y_pred_abc,average='weighted')))\n",
    "print(classification_report(Y_test,Y_pred_abc))"
   ]
  },
  {
   "cell_type": "code",
   "execution_count": 57,
   "metadata": {
    "colab": {
     "base_uri": "https://localhost:8080/"
    },
    "executionInfo": {
     "elapsed": 137383,
     "status": "ok",
     "timestamp": 1668214032394,
     "user": {
      "displayName": "Harsh Gordhan Dungrani",
      "userId": "06954894784251770833"
     },
     "user_tz": 360
    },
    "id": "_NXO2OeBPYYN",
    "outputId": "ca05499b-263c-4322-9a85-5b7f5396b1d6"
   },
   "outputs": [
    {
     "name": "stdout",
     "output_type": "stream",
     "text": [
      "Training Time: 31.918141841888428\n",
      "Training Accuracy Score: 1.0\n",
      "Pred time: 0.04315185546875\n",
      "Testing Accuracy Score: 0.9998768971035648\n",
      "AUC Score: 0.999876595444609\n",
      "              precision    recall  f1-score   support\n",
      "\n",
      "           0       1.00      1.00      1.00     56724\n",
      "           1       1.00      1.00      1.00     57002\n",
      "\n",
      "    accuracy                           1.00    113726\n",
      "   macro avg       1.00      1.00      1.00    113726\n",
      "weighted avg       1.00      1.00      1.00    113726\n",
      "\n"
     ]
    }
   ],
   "source": [
    "#XGBoost Classifier\n",
    "import xgboost\n",
    "xgb = xgboost.XGBClassifier(objective=\"binary:logistic\")\n",
    "st=time.time()\n",
    "xgb.fit(X_train,Y_train)\n",
    "et=time.time()\n",
    "print(\"Training Time:\",et-st)\n",
    "Y_trainpred_xgb=xgb.predict(X_train)\n",
    "print(\"Training Accuracy Score: {}\".format(accuracy_score(Y_train,Y_trainpred_xgb)))\n",
    "st=time.time()\n",
    "Y_pred_xgb = xgb.predict(X_test)\n",
    "et=time.time()\n",
    "print(\"Pred time:\",et-st)\n",
    "print(\"Testing Accuracy Score: {}\".format(accuracy_score(Y_test,Y_pred_xgb)))\n",
    "print('AUC Score: {}'.format(roc_auc_score(Y_test,Y_pred_xgb,average='weighted')))\n",
    "print(classification_report(Y_test,Y_pred_xgb))"
   ]
  },
  {
   "cell_type": "markdown",
   "metadata": {
    "id": "RdhR3-UtZKlm"
   },
   "source": [
    "##Feature Selection"
   ]
  },
  {
   "cell_type": "code",
   "execution_count": 19,
   "metadata": {
    "colab": {
     "base_uri": "https://localhost:8080/"
    },
    "executionInfo": {
     "elapsed": 1801,
     "status": "ok",
     "timestamp": 1670010753976,
     "user": {
      "displayName": "Harsh Gordhan Dungrani",
      "userId": "06954894784251770833"
     },
     "user_tz": 360
    },
    "id": "JxYtT-7VZPfx",
    "outputId": "fae4d227-1751-46a2-df3e-bdc315724e5e"
   },
   "outputs": [
    {
     "name": "stdout",
     "output_type": "stream",
     "text": [
      "Class     1.000000\n",
      "V4        0.743426\n",
      "V11       0.719303\n",
      "V2        0.528834\n",
      "V19       0.295361\n",
      "V20       0.178921\n",
      "V21       0.140611\n",
      "V28       0.100117\n",
      "V27       0.085288\n",
      "V26       0.063580\n",
      "V8        0.057679\n",
      "V25       0.043334\n",
      "Amount    0.033767\n",
      "V23      -0.005717\n",
      "V22      -0.007434\n",
      "V13      -0.047573\n",
      "V15      -0.056303\n",
      "V24      -0.100775\n",
      "Time     -0.146316\n",
      "V5       -0.395524\n",
      "V6       -0.423675\n",
      "V1       -0.456564\n",
      "V18      -0.498521\n",
      "V7       -0.515126\n",
      "V17      -0.593438\n",
      "V3       -0.595537\n",
      "V9       -0.600132\n",
      "V16      -0.629036\n",
      "V10      -0.661573\n",
      "V12      -0.711783\n",
      "V14      -0.788147\n",
      "Name: Class, dtype: float64\n"
     ]
    }
   ],
   "source": [
    "#Correlation of all the features in dataset with respect to 'Class'\n",
    "print(data_SM.corr()[\"Class\"].sort_values(ascending=False))"
   ]
  },
  {
   "cell_type": "code",
   "execution_count": 20,
   "metadata": {
    "colab": {
     "base_uri": "https://localhost:8080/"
    },
    "executionInfo": {
     "elapsed": 1762,
     "status": "ok",
     "timestamp": 1670010853042,
     "user": {
      "displayName": "Harsh Gordhan Dungrani",
      "userId": "06954894784251770833"
     },
     "user_tz": 360
    },
    "id": "jub9DjWGZsep",
    "outputId": "afb216ac-6637-4e85-f25e-a032e0e8ecb3"
   },
   "outputs": [
    {
     "name": "stdout",
     "output_type": "stream",
     "text": [
      "Class     1.000000\n",
      "V14       0.788147\n",
      "V4        0.743426\n",
      "V11       0.719303\n",
      "V12       0.711783\n",
      "V10       0.661573\n",
      "V16       0.629036\n",
      "V9        0.600132\n",
      "V3        0.595537\n",
      "V17       0.593438\n",
      "V2        0.528834\n",
      "V7        0.515126\n",
      "V18       0.498521\n",
      "V1        0.456564\n",
      "V6        0.423675\n",
      "V5        0.395524\n",
      "V19       0.295361\n",
      "V20       0.178921\n",
      "Time      0.146316\n",
      "V21       0.140611\n",
      "V24       0.100775\n",
      "V28       0.100117\n",
      "V27       0.085288\n",
      "V26       0.063580\n",
      "V8        0.057679\n",
      "V15       0.056303\n",
      "V13       0.047573\n",
      "V25       0.043334\n",
      "Amount    0.033767\n",
      "V22       0.007434\n",
      "V23       0.005717\n",
      "Name: Class, dtype: float64\n"
     ]
    }
   ],
   "source": [
    "print(data_SM.corr()[\"Class\"].abs().sort_values(ascending=False))"
   ]
  },
  {
   "cell_type": "code",
   "execution_count": 21,
   "metadata": {
    "colab": {
     "base_uri": "https://localhost:8080/"
    },
    "executionInfo": {
     "elapsed": 77330,
     "status": "ok",
     "timestamp": 1670009720472,
     "user": {
      "displayName": "Harsh Gordhan Dungrani",
      "userId": "06954894784251770833"
     },
     "user_tz": 360
    },
    "id": "ODepCo1Z53V9",
    "outputId": "a2860d81-1007-4141-eeff-102b7f647a4a"
   },
   "outputs": [
    {
     "data": {
      "text/html": [
       "<style>#sk-container-id-1 {color: black;background-color: white;}#sk-container-id-1 pre{padding: 0;}#sk-container-id-1 div.sk-toggleable {background-color: white;}#sk-container-id-1 label.sk-toggleable__label {cursor: pointer;display: block;width: 100%;margin-bottom: 0;padding: 0.3em;box-sizing: border-box;text-align: center;}#sk-container-id-1 label.sk-toggleable__label-arrow:before {content: \"▸\";float: left;margin-right: 0.25em;color: #696969;}#sk-container-id-1 label.sk-toggleable__label-arrow:hover:before {color: black;}#sk-container-id-1 div.sk-estimator:hover label.sk-toggleable__label-arrow:before {color: black;}#sk-container-id-1 div.sk-toggleable__content {max-height: 0;max-width: 0;overflow: hidden;text-align: left;background-color: #f0f8ff;}#sk-container-id-1 div.sk-toggleable__content pre {margin: 0.2em;color: black;border-radius: 0.25em;background-color: #f0f8ff;}#sk-container-id-1 input.sk-toggleable__control:checked~div.sk-toggleable__content {max-height: 200px;max-width: 100%;overflow: auto;}#sk-container-id-1 input.sk-toggleable__control:checked~label.sk-toggleable__label-arrow:before {content: \"▾\";}#sk-container-id-1 div.sk-estimator input.sk-toggleable__control:checked~label.sk-toggleable__label {background-color: #d4ebff;}#sk-container-id-1 div.sk-label input.sk-toggleable__control:checked~label.sk-toggleable__label {background-color: #d4ebff;}#sk-container-id-1 input.sk-hidden--visually {border: 0;clip: rect(1px 1px 1px 1px);clip: rect(1px, 1px, 1px, 1px);height: 1px;margin: -1px;overflow: hidden;padding: 0;position: absolute;width: 1px;}#sk-container-id-1 div.sk-estimator {font-family: monospace;background-color: #f0f8ff;border: 1px dotted black;border-radius: 0.25em;box-sizing: border-box;margin-bottom: 0.5em;}#sk-container-id-1 div.sk-estimator:hover {background-color: #d4ebff;}#sk-container-id-1 div.sk-parallel-item::after {content: \"\";width: 100%;border-bottom: 1px solid gray;flex-grow: 1;}#sk-container-id-1 div.sk-label:hover label.sk-toggleable__label {background-color: #d4ebff;}#sk-container-id-1 div.sk-serial::before {content: \"\";position: absolute;border-left: 1px solid gray;box-sizing: border-box;top: 0;bottom: 0;left: 50%;z-index: 0;}#sk-container-id-1 div.sk-serial {display: flex;flex-direction: column;align-items: center;background-color: white;padding-right: 0.2em;padding-left: 0.2em;position: relative;}#sk-container-id-1 div.sk-item {position: relative;z-index: 1;}#sk-container-id-1 div.sk-parallel {display: flex;align-items: stretch;justify-content: center;background-color: white;position: relative;}#sk-container-id-1 div.sk-item::before, #sk-container-id-1 div.sk-parallel-item::before {content: \"\";position: absolute;border-left: 1px solid gray;box-sizing: border-box;top: 0;bottom: 0;left: 50%;z-index: -1;}#sk-container-id-1 div.sk-parallel-item {display: flex;flex-direction: column;z-index: 1;position: relative;background-color: white;}#sk-container-id-1 div.sk-parallel-item:first-child::after {align-self: flex-end;width: 50%;}#sk-container-id-1 div.sk-parallel-item:last-child::after {align-self: flex-start;width: 50%;}#sk-container-id-1 div.sk-parallel-item:only-child::after {width: 0;}#sk-container-id-1 div.sk-dashed-wrapped {border: 1px dashed gray;margin: 0 0.4em 0.5em 0.4em;box-sizing: border-box;padding-bottom: 0.4em;background-color: white;}#sk-container-id-1 div.sk-label label {font-family: monospace;font-weight: bold;display: inline-block;line-height: 1.2em;}#sk-container-id-1 div.sk-label-container {text-align: center;}#sk-container-id-1 div.sk-container {/* jupyter's `normalize.less` sets `[hidden] { display: none; }` but bootstrap.min.css set `[hidden] { display: none !important; }` so we also need the `!important` here to be able to override the default hidden behavior on the sphinx rendered scikit-learn.org. See: https://github.com/scikit-learn/scikit-learn/issues/21755 */display: inline-block !important;position: relative;}#sk-container-id-1 div.sk-text-repr-fallback {display: none;}</style><div id=\"sk-container-id-1\" class=\"sk-top-container\"><div class=\"sk-text-repr-fallback\"><pre>DecisionTreeClassifier()</pre><b>In a Jupyter environment, please rerun this cell to show the HTML representation or trust the notebook. <br />On GitHub, the HTML representation is unable to render, please try loading this page with nbviewer.org.</b></div><div class=\"sk-container\" hidden><div class=\"sk-item\"><div class=\"sk-estimator sk-toggleable\"><input class=\"sk-toggleable__control sk-hidden--visually\" id=\"sk-estimator-id-1\" type=\"checkbox\" checked><label for=\"sk-estimator-id-1\" class=\"sk-toggleable__label sk-toggleable__label-arrow\">DecisionTreeClassifier</label><div class=\"sk-toggleable__content\"><pre>DecisionTreeClassifier()</pre></div></div></div></div></div>"
      ],
      "text/plain": [
       "DecisionTreeClassifier()"
      ]
     },
     "execution_count": 21,
     "metadata": {},
     "output_type": "execute_result"
    }
   ],
   "source": [
    "#DecisionTreeClassifier Feature Selection\n",
    "dt = DecisionTreeClassifier()\n",
    "dt.fit(X_SM,Y_SM)"
   ]
  },
  {
   "cell_type": "code",
   "execution_count": 22,
   "metadata": {
    "id": "Yl7vZwc4lLZA"
   },
   "outputs": [],
   "source": [
    "feat_imp=pd.Series(dt.feature_importances_, index=data.columns[0:30])"
   ]
  },
  {
   "cell_type": "code",
   "execution_count": 23,
   "metadata": {
    "colab": {
     "base_uri": "https://localhost:8080/"
    },
    "executionInfo": {
     "elapsed": 156,
     "status": "ok",
     "timestamp": 1670010535671,
     "user": {
      "displayName": "Harsh Gordhan Dungrani",
      "userId": "06954894784251770833"
     },
     "user_tz": 360
    },
    "id": "bP-_HPQhYDpl",
    "outputId": "09b24c83-3307-420a-96bf-56d8232ca1e8"
   },
   "outputs": [
    {
     "name": "stdout",
     "output_type": "stream",
     "text": [
      "Feature 0: 0.007711\n",
      "Feature 1: 0.006124\n",
      "Feature 2: 0.001199\n",
      "Feature 3: 0.007083\n",
      "Feature 4: 0.046400\n",
      "Feature 5: 0.000918\n",
      "Feature 6: 0.001691\n",
      "Feature 7: 0.001716\n",
      "Feature 8: 0.005154\n",
      "Feature 9: 0.000680\n",
      "Feature 10: 0.008993\n",
      "Feature 11: 0.004301\n",
      "Feature 12: 0.020529\n",
      "Feature 13: 0.007735\n",
      "Feature 14: 0.811204\n",
      "Feature 15: 0.005059\n",
      "Feature 16: 0.002999\n",
      "Feature 17: 0.030873\n",
      "Feature 18: 0.004380\n",
      "Feature 19: 0.002357\n",
      "Feature 20: 0.001757\n",
      "Feature 21: 0.004457\n",
      "Feature 22: 0.001993\n",
      "Feature 23: 0.003062\n",
      "Feature 24: 0.000885\n",
      "Feature 25: 0.002647\n",
      "Feature 26: 0.002064\n",
      "Feature 27: 0.001306\n",
      "Feature 28: 0.000251\n",
      "Feature 29: 0.004470\n"
     ]
    }
   ],
   "source": [
    "#Feature Importance by DesicionTreeClassifier\n",
    "for i in range(len(dt.feature_importances_)):\n",
    "\tprint('Feature %d: %f' % (i, dt.feature_importances_[i]))"
   ]
  },
  {
   "cell_type": "code",
   "execution_count": 24,
   "metadata": {
    "colab": {
     "base_uri": "https://localhost:8080/",
     "height": 871
    },
    "executionInfo": {
     "elapsed": 505,
     "status": "ok",
     "timestamp": 1670009720971,
     "user": {
      "displayName": "Harsh Gordhan Dungrani",
      "userId": "06954894784251770833"
     },
     "user_tz": 360
    },
    "id": "d2zNeHrPpV4x",
    "outputId": "09055a2f-5db3-4904-d3a7-983d41a247d2"
   },
   "outputs": [
    {
     "data": {
      "text/plain": [
       "<AxesSubplot: title={'center': 'DecisionTreeClassifier Feature Selection'}>"
      ]
     },
     "execution_count": 24,
     "metadata": {},
     "output_type": "execute_result"
    },
    {
     "data": {
      "image/png": "[encoded data removed]",
      "text/plain": [
       "<Figure size 1400x1400 with 1 Axes>"
      ]
     },
     "metadata": {},
     "output_type": "display_data"
    }
   ],
   "source": [
    "#Plot of feature Importance by DecisionTreeClassifier\n",
    "feat_imp.plot(kind='bar',figsize=(14,14),title='DecisionTreeClassifier Feature Selection')"
   ]
  },
  {
   "cell_type": "code",
   "execution_count": 25,
   "metadata": {
    "executionInfo": {
     "elapsed": 297,
     "status": "ok",
     "timestamp": 1670011387052,
     "user": {
      "displayName": "Harsh Gordhan Dungrani",
      "userId": "06954894784251770833"
     },
     "user_tz": 360
    },
    "id": "k2fXLYpCDBXN"
   },
   "outputs": [],
   "source": [
    "#ANOVA Feature Selection\n",
    "from sklearn.feature_selection import SelectKBest\n",
    "from sklearn.feature_selection import f_classif\n",
    "fs = SelectKBest(score_func=f_classif, k='all')\n",
    "X_selected = fs.fit_transform(X_SM, Y_SM)"
   ]
  },
  {
   "cell_type": "code",
   "execution_count": 26,
   "metadata": {
    "colab": {
     "base_uri": "https://localhost:8080/"
    },
    "executionInfo": {
     "elapsed": 106,
     "status": "ok",
     "timestamp": 1670011387875,
     "user": {
      "displayName": "Harsh Gordhan Dungrani",
      "userId": "06954894784251770833"
     },
     "user_tz": 360
    },
    "id": "R6rXux9jGcTt",
    "outputId": "3e1946ec-3ed4-4c0d-de5a-533c67f64ab7"
   },
   "outputs": [
    {
     "name": "stdout",
     "output_type": "stream",
     "text": [
      "Feature 0: 12439.747168\n",
      "Feature 1: 149745.770167\n",
      "Feature 2: 220766.254752\n",
      "Feature 3: 312507.256149\n",
      "Feature 4: 702566.782959\n",
      "Feature 5: 105452.743560\n",
      "Feature 6: 124398.474286\n",
      "Feature 7: 205389.669061\n",
      "Feature 8: 1898.072565\n",
      "Feature 9: 320073.821507\n",
      "Feature 10: 442588.884129\n",
      "Feature 11: 609623.872513\n",
      "Feature 12: 583921.337343\n",
      "Feature 13: 1289.815448\n",
      "Feature 14: 932404.742324\n",
      "Feature 15: 1808.279514\n",
      "Feature 16: 372320.657746\n",
      "Feature 17: 309112.527692\n",
      "Feature 18: 188052.268410\n",
      "Feature 19: 54347.164566\n",
      "Feature 20: 18805.378246\n",
      "Feature 21: 11469.362512\n",
      "Feature 22: 31.428493\n",
      "Feature 23: 18.587956\n",
      "Feature 24: 5834.046636\n",
      "Feature 25: 1069.811744\n",
      "Feature 26: 2307.949928\n",
      "Feature 27: 4166.573966\n",
      "Feature 28: 5757.355438\n",
      "Feature 29: 649.112181\n"
     ]
    }
   ],
   "source": [
    "# Feature Scores by ANOVA Feature Selection\n",
    "for i in range(len(fs.scores_)):\n",
    "\tprint('Feature %d: %f' % (i, fs.scores_[i]))"
   ]
  },
  {
   "cell_type": "code",
   "execution_count": 36,
   "metadata": {
    "colab": {
     "base_uri": "https://localhost:8080/",
     "height": 871
    },
    "executionInfo": {
     "elapsed": 734,
     "status": "ok",
     "timestamp": 1670011390826,
     "user": {
      "displayName": "Harsh Gordhan Dungrani",
      "userId": "06954894784251770833"
     },
     "user_tz": 360
    },
    "id": "DTEV8dVhxW9q",
    "outputId": "e751e67b-0a4d-41a6-ceba-454bc8809cf5"
   },
   "outputs": [
    {
     "data": {
      "text/plain": [
       "<matplotlib.axes._subplots.AxesSubplot at 0x7f07a8591b50>"
      ]
     },
     "execution_count": 36,
     "metadata": {},
     "output_type": "execute_result"
    },
    {
     "data": {
      "image/png": "[encoded data removed]",
      "text/plain": [
       "<Figure size 1008x1008 with 1 Axes>"
      ]
     },
     "metadata": {
      "needs_background": "light"
     },
     "output_type": "display_data"
    }
   ],
   "source": [
    "feat_imp_anova=pd.Series(fs.scores_, index=data.columns[0:30])\n",
    "feat_imp_anova.plot(kind='bar',figsize=(14,14),title='ANOVA f-test Feature Selection')"
   ]
  },
  {
   "cell_type": "code",
   "execution_count": 27,
   "metadata": {
    "id": "VEyE9iCWa9NX"
   },
   "outputs": [
    {
     "data": {
      "text/plain": [
       "['Time',\n",
       " 'V1',\n",
       " 'V2',\n",
       " 'V3',\n",
       " 'V4',\n",
       " 'V5',\n",
       " 'V6',\n",
       " 'V7',\n",
       " 'V9',\n",
       " 'V10',\n",
       " 'V11',\n",
       " 'V12',\n",
       " 'V14',\n",
       " 'V16',\n",
       " 'V17',\n",
       " 'V18',\n",
       " 'V19',\n",
       " 'V20',\n",
       " 'V21',\n",
       " 'V24',\n",
       " 'V26',\n",
       " 'V27',\n",
       " 'V28']"
      ]
     },
     "execution_count": 27,
     "metadata": {},
     "output_type": "execute_result"
    }
   ],
   "source": [
    "#Top features according to ANOVA f-test Feature Selection\n",
    "selector = SelectKBest(f_classif, k=23)\n",
    "X_reduced = selector.fit_transform(X_SM,Y_SM)\n",
    "X_reduced.shape\n",
    "cols = selector.get_support(indices=True)\n",
    "selected_columns = X_SM.iloc[:,cols].columns.tolist()\n",
    "selected_columns"
   ]
  },
  {
   "cell_type": "code",
   "execution_count": 28,
   "metadata": {
    "colab": {
     "base_uri": "https://localhost:8080/"
    },
    "executionInfo": {
     "elapsed": 161088,
     "status": "ok",
     "timestamp": 1670010504491,
     "user": {
      "displayName": "Harsh Gordhan Dungrani",
      "userId": "06954894784251770833"
     },
     "user_tz": 360
    },
    "id": "Ox2JDZyMMTOF",
    "outputId": "25817644-fca7-4c04-a40a-f7010efba6f9"
   },
   "outputs": [
    {
     "name": "stdout",
     "output_type": "stream",
     "text": [
      "Feature 0: 0.282143\n",
      "Feature 1: 0.230806\n",
      "Feature 2: 0.303841\n",
      "Feature 3: 0.403572\n",
      "Feature 4: 0.442240\n",
      "Feature 5: 0.164766\n",
      "Feature 6: 0.195818\n",
      "Feature 7: 0.327415\n",
      "Feature 8: 0.172374\n",
      "Feature 9: 0.287490\n",
      "Feature 10: 0.479196\n",
      "Feature 11: 0.430175\n",
      "Feature 12: 0.474384\n",
      "Feature 13: 0.025165\n",
      "Feature 14: 0.542485\n",
      "Feature 15: 0.027034\n",
      "Feature 16: 0.357889\n",
      "Feature 17: 0.445226\n",
      "Feature 18: 0.219508\n",
      "Feature 19: 0.110460\n",
      "Feature 20: 0.122968\n",
      "Feature 21: 0.243416\n",
      "Feature 22: 0.036908\n",
      "Feature 23: 0.070795\n",
      "Feature 24: 0.070779\n",
      "Feature 25: 0.038954\n",
      "Feature 26: 0.059429\n",
      "Feature 27: 0.251795\n",
      "Feature 28: 0.188421\n",
      "Feature 29: 0.419130\n"
     ]
    }
   ],
   "source": [
    "#Mutual Information Classification Feature Selection\n",
    "from sklearn.feature_selection import mutual_info_classif as MIC\n",
    "mic_score = MIC(X_SM,Y_SM)\n",
    "# Feature Scores by MIC Feature Selection\n",
    "for i in range(len(mic_score)):\n",
    "\tprint('Feature %d: %f' % (i, mic_score[i]))"
   ]
  },
  {
   "cell_type": "code",
   "execution_count": 29,
   "metadata": {
    "colab": {
     "base_uri": "https://localhost:8080/",
     "height": 871
    },
    "executionInfo": {
     "elapsed": 682,
     "status": "ok",
     "timestamp": 1668594239663,
     "user": {
      "displayName": "Harsh Gordhan Dungrani",
      "userId": "06954894784251770833"
     },
     "user_tz": 360
    },
    "id": "7zKeRI0j9mDj",
    "outputId": "463b9de8-5a99-40a8-b58d-4165ddffd12d"
   },
   "outputs": [
    {
     "data": {
      "text/plain": [
       "<AxesSubplot: title={'center': 'Mutual Information Classification Feature Selection'}>"
      ]
     },
     "execution_count": 29,
     "metadata": {},
     "output_type": "execute_result"
    },
    {
     "data": {
      "image/png": "[encoded data removed]",
      "text/plain": [
       "<Figure size 1400x1400 with 1 Axes>"
      ]
     },
     "metadata": {},
     "output_type": "display_data"
    }
   ],
   "source": [
    "feat_imp_mic=pd.Series(mic_score, index=data.columns[0:30])\n",
    "feat_imp_mic.plot(kind='bar',figsize=(14,14),title='Mutual Information Classification Feature Selection')"
   ]
  },
  {
   "cell_type": "code",
   "execution_count": 30,
   "metadata": {
    "id": "LSzhMFoXcKXv"
   },
   "outputs": [
    {
     "data": {
      "text/plain": [
       "['Time',\n",
       " 'V1',\n",
       " 'V2',\n",
       " 'V3',\n",
       " 'V4',\n",
       " 'V5',\n",
       " 'V6',\n",
       " 'V7',\n",
       " 'V8',\n",
       " 'V9',\n",
       " 'V10',\n",
       " 'V11',\n",
       " 'V12',\n",
       " 'V14',\n",
       " 'V16',\n",
       " 'V17',\n",
       " 'V18',\n",
       " 'V19',\n",
       " 'V20',\n",
       " 'V21',\n",
       " 'V27',\n",
       " 'V28',\n",
       " 'Amount']"
      ]
     },
     "execution_count": 30,
     "metadata": {},
     "output_type": "execute_result"
    }
   ],
   "source": [
    "#Top features according to Mutual Information Classification Feature Selection\n",
    "selector = SelectKBest(MIC, k=23)\n",
    "X_reduced = selector.fit_transform(X_SM,Y_SM)\n",
    "X_reduced.shape\n",
    "cols = selector.get_support(indices=True)\n",
    "selected_columns = X_SM.iloc[:,cols].columns.tolist()\n",
    "selected_columns"
   ]
  },
  {
   "cell_type": "code",
   "execution_count": 31,
   "metadata": {
    "colab": {
     "base_uri": "https://localhost:8080/"
    },
    "executionInfo": {
     "elapsed": 284034,
     "status": "ok",
     "timestamp": 1668597130152,
     "user": {
      "displayName": "Harsh Gordhan Dungrani",
      "userId": "06954894784251770833"
     },
     "user_tz": 360
    },
    "id": "Y2V3O6bP5dlc",
    "outputId": "959c3b6d-3c12-40cd-c0d7-25ca630c54a6"
   },
   "outputs": [
    {
     "name": "stdout",
     "output_type": "stream",
     "text": [
      "Column: 0, Selected True, Rank: 1.0\n",
      "Column: 1, Selected True, Rank: 1.0\n",
      "Column: 2, Selected False, Rank: 13.0\n",
      "Column: 3, Selected True, Rank: 1.0\n",
      "Column: 4, Selected True, Rank: 1.0\n",
      "Column: 5, Selected False, Rank: 15.0\n",
      "Column: 6, Selected False, Rank: 7.0\n",
      "Column: 7, Selected False, Rank: 10.0\n",
      "Column: 8, Selected True, Rank: 1.0\n",
      "Column: 9, Selected False, Rank: 11.0\n",
      "Column: 10, Selected True, Rank: 1.0\n",
      "Column: 11, Selected True, Rank: 1.0\n",
      "Column: 12, Selected True, Rank: 1.0\n",
      "Column: 13, Selected True, Rank: 1.0\n",
      "Column: 14, Selected True, Rank: 1.0\n",
      "Column: 15, Selected True, Rank: 1.0\n",
      "Column: 16, Selected False, Rank: 3.0\n",
      "Column: 17, Selected True, Rank: 1.0\n",
      "Column: 18, Selected True, Rank: 1.0\n",
      "Column: 19, Selected False, Rank: 6.0\n",
      "Column: 20, Selected False, Rank: 8.0\n",
      "Column: 21, Selected False, Rank: 2.0\n",
      "Column: 22, Selected False, Rank: 9.0\n",
      "Column: 23, Selected False, Rank: 4.0\n",
      "Column: 24, Selected False, Rank: 14.0\n",
      "Column: 25, Selected True, Rank: 1.0\n",
      "Column: 26, Selected False, Rank: 5.0\n",
      "Column: 27, Selected False, Rank: 12.0\n",
      "Column: 28, Selected False, Rank: 16.0\n",
      "Column: 29, Selected True, Rank: 1.0\n"
     ]
    }
   ],
   "source": [
    "#Recursive Feature Elimination (RFE)\n",
    "from sklearn.feature_selection import RFE\n",
    "rfe=RFE(estimator=dt)\n",
    "rfe.fit(X_SM,Y_SM)\n",
    "for i in range(X.shape[1]):\n",
    "  print(\"Column: %d, Selected %s, Rank: %.1f\"%(i,rfe.support_[i],rfe.ranking_[i]))"
   ]
  },
  {
   "cell_type": "code",
   "execution_count": 32,
   "metadata": {
    "colab": {
     "base_uri": "https://localhost:8080/"
    },
    "executionInfo": {
     "elapsed": 1871110,
     "status": "ok",
     "timestamp": 1668596789359,
     "user": {
      "displayName": "Harsh Gordhan Dungrani",
      "userId": "06954894784251770833"
     },
     "user_tz": 360
    },
    "id": "UdqOzmpT5Krp",
    "outputId": "b00e1b89-72f5-4694-d50a-af25b1188fb1"
   },
   "outputs": [
    {
     "name": "stdout",
     "output_type": "stream",
     "text": [
      "Column: 0, Selected False, Rank: 2.0\n",
      "Column: 1, Selected False, Rank: 6.0\n",
      "Column: 2, Selected False, Rank: 26.0\n",
      "Column: 3, Selected False, Rank: 7.0\n",
      "Column: 4, Selected False, Rank: 3.0\n",
      "Column: 5, Selected False, Rank: 29.0\n",
      "Column: 6, Selected False, Rank: 21.0\n",
      "Column: 7, Selected False, Rank: 24.0\n",
      "Column: 8, Selected False, Rank: 10.0\n",
      "Column: 9, Selected False, Rank: 27.0\n",
      "Column: 10, Selected False, Rank: 8.0\n",
      "Column: 11, Selected False, Rank: 11.0\n",
      "Column: 12, Selected False, Rank: 5.0\n",
      "Column: 13, Selected False, Rank: 9.0\n",
      "Column: 14, Selected True, Rank: 1.0\n",
      "Column: 15, Selected False, Rank: 14.0\n",
      "Column: 16, Selected False, Rank: 17.0\n",
      "Column: 17, Selected False, Rank: 4.0\n",
      "Column: 18, Selected False, Rank: 13.0\n",
      "Column: 19, Selected False, Rank: 19.0\n",
      "Column: 20, Selected False, Rank: 22.0\n",
      "Column: 21, Selected False, Rank: 16.0\n",
      "Column: 22, Selected False, Rank: 23.0\n",
      "Column: 23, Selected False, Rank: 18.0\n",
      "Column: 24, Selected False, Rank: 28.0\n",
      "Column: 25, Selected False, Rank: 15.0\n",
      "Column: 26, Selected False, Rank: 20.0\n",
      "Column: 27, Selected False, Rank: 25.0\n",
      "Column: 28, Selected False, Rank: 30.0\n",
      "Column: 29, Selected False, Rank: 12.0\n"
     ]
    }
   ],
   "source": [
    "#Recursive Feature Elimination Cross-Validation (RFECV)\n",
    "from sklearn.feature_selection import RFECV\n",
    "rfecv=RFECV(estimator=dt)\n",
    "rfecv.fit(X_SM,Y_SM)\n",
    "for i in range(X_train.shape[1]):\n",
    "  print(\"Column: %d, Selected %s, Rank: %.1f\"%(i,rfecv.support_[i],rfecv.ranking_[i]))"
   ]
  },
  {
   "cell_type": "code",
   "execution_count": 59,
   "metadata": {},
   "outputs": [],
   "source": [
    "data_final = data_SM.drop(['V5','V9','V22','V24','V27','V28'], axis=1)"
   ]
  },
  {
   "cell_type": "code",
   "execution_count": 60,
   "metadata": {},
   "outputs": [
    {
     "name": "stdout",
     "output_type": "stream",
     "text": [
      "(568630, 25)\n"
     ]
    }
   ],
   "source": [
    "print(data_final.shape)"
   ]
  },
  {
   "cell_type": "code",
   "execution_count": 61,
   "metadata": {},
   "outputs": [],
   "source": [
    "#Split the dataset into train and test set\n",
    "from sklearn.model_selection import train_test_split\n",
    "\n",
    "predictors = data_final.drop(\"Class\",axis=1)\n",
    "target = data_final[\"Class\"]\n",
    "\n",
    "X_train,X_test,Y_train,Y_test = train_test_split(predictors,target,test_size=0.20,random_state=0)"
   ]
  },
  {
   "cell_type": "code",
   "execution_count": 62,
   "metadata": {},
   "outputs": [
    {
     "name": "stdout",
     "output_type": "stream",
     "text": [
      "(454904, 24) (454904,) (113726, 24) (113726,)\n"
     ]
    }
   ],
   "source": [
    "print(X_train.shape,Y_train.shape,X_test.shape,Y_test.shape)"
   ]
  },
  {
   "cell_type": "code",
   "execution_count": 63,
   "metadata": {},
   "outputs": [
    {
     "name": "stdout",
     "output_type": "stream",
     "text": [
      "Training Time: 162.4424660205841\n",
      "Training Accuracy Score: 1.0\n",
      "Pred Time: 0.7240381240844727\n",
      "Testing Accuracy Score: 0.9998856901675958\n",
      "AUC Score: 0.9998854100557084\n",
      "              precision    recall  f1-score   support\n",
      "\n",
      "           0       1.00      1.00      1.00     56724\n",
      "           1       1.00      1.00      1.00     57002\n",
      "\n",
      "    accuracy                           1.00    113726\n",
      "   macro avg       1.00      1.00      1.00    113726\n",
      "weighted avg       1.00      1.00      1.00    113726\n",
      "\n"
     ]
    }
   ],
   "source": [
    "#Random Forest\n",
    "rf = RandomForestClassifier()\n",
    "st=time.time()\n",
    "rf.fit(X_train,Y_train)\n",
    "et=time.time()\n",
    "print(\"Training Time:\",et-st)\n",
    "Y_trainpred_rf=rf.predict(X_train)\n",
    "print(\"Training Accuracy Score: {}\".format(accuracy_score(Y_train,Y_trainpred_rf)))\n",
    "st=time.time()\n",
    "Y_pred_rf = rf.predict(X_test)\n",
    "et=time.time()\n",
    "print(\"Pred Time:\",et-st)\n",
    "print(\"Testing Accuracy Score: {}\".format(accuracy_score(Y_test,Y_pred_rf)))\n",
    "print('AUC Score: {}'.format(roc_auc_score(Y_test,Y_pred_rf,average='weighted')))\n",
    "print(classification_report(Y_test,Y_pred_rf))"
   ]
  },
  {
   "cell_type": "code",
   "execution_count": 64,
   "metadata": {},
   "outputs": [
    {
     "name": "stdout",
     "output_type": "stream",
     "text": [
      "Training Time: 20.673271894454956\n",
      "Training Accuracy Score: 1.0\n",
      "Pred Time: 0.018831968307495117\n",
      "Testing Accuracy Score: 0.9983029386419991\n",
      "AUC Score: 0.9983013594008844\n",
      "              precision    recall  f1-score   support\n",
      "\n",
      "           0       1.00      1.00      1.00     56724\n",
      "           1       1.00      1.00      1.00     57002\n",
      "\n",
      "    accuracy                           1.00    113726\n",
      "   macro avg       1.00      1.00      1.00    113726\n",
      "weighted avg       1.00      1.00      1.00    113726\n",
      "\n"
     ]
    }
   ],
   "source": [
    "#Decision Tree\n",
    "dt = DecisionTreeClassifier()\n",
    "st=time.time()\n",
    "dt.fit(X_train,Y_train)\n",
    "et=time.time()\n",
    "print(\"Training Time:\",et-st)\n",
    "Y_trainpred_dt=dt.predict(X_train)\n",
    "print(\"Training Accuracy Score: {}\".format(accuracy_score(Y_train,Y_trainpred_dt)))\n",
    "st=time.time()\n",
    "Y_pred_dt = dt.predict(X_test)\n",
    "et=time.time()\n",
    "print(\"Pred Time:\",et-st)\n",
    "print(\"Testing Accuracy Score: {}\".format(accuracy_score(Y_test,Y_pred_dt)))\n",
    "print('AUC Score: {}'.format(roc_auc_score(Y_test,Y_pred_dt,average='weighted')))\n",
    "print(classification_report(Y_test,Y_pred_dt))"
   ]
  },
  {
   "cell_type": "code",
   "execution_count": 65,
   "metadata": {},
   "outputs": [
    {
     "name": "stdout",
     "output_type": "stream",
     "text": [
      "Training Time: 24.917330265045166\n",
      "Training Accuracy Score: 1.0\n",
      "Pred time: 0.03962588310241699\n",
      "Testing Accuracy Score: 0.9998593109755025\n",
      "AUC Score: 0.9998589662224103\n",
      "              precision    recall  f1-score   support\n",
      "\n",
      "           0       1.00      1.00      1.00     56724\n",
      "           1       1.00      1.00      1.00     57002\n",
      "\n",
      "    accuracy                           1.00    113726\n",
      "   macro avg       1.00      1.00      1.00    113726\n",
      "weighted avg       1.00      1.00      1.00    113726\n",
      "\n"
     ]
    }
   ],
   "source": [
    "#XGBoost Classifier\n",
    "import xgboost\n",
    "xgb = xgboost.XGBClassifier(objective=\"binary:logistic\")\n",
    "st=time.time()\n",
    "xgb.fit(X_train,Y_train)\n",
    "et=time.time()\n",
    "print(\"Training Time:\",et-st)\n",
    "Y_trainpred_xgb=xgb.predict(X_train)\n",
    "print(\"Training Accuracy Score: {}\".format(accuracy_score(Y_train,Y_trainpred_xgb)))\n",
    "st=time.time()\n",
    "Y_pred_xgb = xgb.predict(X_test)\n",
    "et=time.time()\n",
    "print(\"Pred time:\",et-st)\n",
    "print(\"Testing Accuracy Score: {}\".format(accuracy_score(Y_test,Y_pred_xgb)))\n",
    "print('AUC Score: {}'.format(roc_auc_score(Y_test,Y_pred_xgb,average='weighted')))\n",
    "print(classification_report(Y_test,Y_pred_xgb))"
   ]
  },
  {
   "cell_type": "code",
   "execution_count": 66,
   "metadata": {},
   "outputs": [],
   "source": [
    "#Confusion Matrix\n",
    "from sklearn.metrics import confusion_matrix\n",
    "cm_rf = confusion_matrix(Y_test,Y_pred_rf)\n",
    "cm_dt = confusion_matrix(Y_test,Y_pred_dt)\n",
    "cm_xgb = confusion_matrix(Y_test,Y_pred_xgb)"
   ]
  },
  {
   "cell_type": "code",
   "execution_count": 67,
   "metadata": {},
   "outputs": [
    {
     "data": {
      "text/plain": [
       "<AxesSubplot: title={'center': 'XGBoost Classifier Confusion Matrix'}>"
      ]
     },
     "execution_count": 67,
     "metadata": {},
     "output_type": "execute_result"
    },
    {
     "data": {
      "image/png": "[encoded data removed]",
      "text/plain": [
       "<Figure size 2400x1200 with 3 Axes>"
      ]
     },
     "metadata": {},
     "output_type": "display_data"
    }
   ],
   "source": [
    "plt.figure(figsize=(24,12))\n",
    "\n",
    "plt.suptitle(\"Confusion Matrices\",fontsize=24)\n",
    "plt.subplots_adjust(wspace = 0.4, hspace= 0.4)\n",
    "\n",
    "plt.subplot(3,3,1)\n",
    "plt.title(\"Random Forest Classifier Confusion Matrix\")\n",
    "sns.heatmap(cm_rf,annot=True,cmap=\"Blues\",fmt=\"d\",cbar=False, annot_kws={\"size\": 24})\n",
    "\n",
    "plt.subplot(3,3,2)\n",
    "plt.title(\"Desicion Tree Classifier Confusion Matrix\")\n",
    "sns.heatmap(cm_dt,annot=True,cmap=\"Blues\",fmt=\"d\",cbar=False, annot_kws={\"size\": 24})\n",
    "\n",
    "plt.subplot(3,3,3)\n",
    "plt.title(\"XGBoost Classifier Confusion Matrix\")\n",
    "sns.heatmap(cm_xgb,annot=True,cmap=\"Blues\",fmt=\"d\",cbar=False, annot_kws={\"size\": 24})"
   ]
  },
  {
   "cell_type": "code",
   "execution_count": null,
   "metadata": {},
   "outputs": [],
   "source": []
  }
 ],
 "metadata": {
  "colab": {
   "provenance": []
  },
  "kernelspec": {
   "display_name": "Python 3 (ipykernel)",
   "language": "python",
   "name": "python3"
  },
  "language_info": {
   "codemirror_mode": {
    "name": "ipython",
    "version": 3
   },
   "file_extension": ".py",
   "mimetype": "text/x-python",
   "name": "python",
   "nbconvert_exporter": "python",
   "pygments_lexer": "ipython3",
   "version": "3.9.13"
  },
  "vscode": {
   "interpreter": {
    "hash": "aee8b7b246df8f9039afb4144a1f6fd8d2ca17a180786b69acc140d282b71a49"
   }
  }
 },
 "nbformat": 4,
 "nbformat_minor": 1
}
